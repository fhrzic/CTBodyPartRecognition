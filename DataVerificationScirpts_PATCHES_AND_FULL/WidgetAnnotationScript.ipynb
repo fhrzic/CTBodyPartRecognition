{
 "cells": [
  {
   "cell_type": "markdown",
   "id": "4c29b50c-8929-45dc-9b33-0d45e8e5d1b1",
   "metadata": {},
   "source": [
    "### Libs"
   ]
  },
  {
   "cell_type": "code",
   "execution_count": 1,
   "id": "192dbeaf-8fae-43af-89e1-abb39fd6823d",
   "metadata": {},
   "outputs": [],
   "source": [
    "import ipywidgets as widgets\n",
    "from IPython.display import display, clear_output, HTML\n",
    "from PIL import Image as PILImage\n",
    "import os\n",
    "import pandas as pd\n",
    "import shutil\n",
    "from PIL import Image\n",
    "import cv2\n",
    "import numpy as np\n",
    "import io\n"
   ]
  },
  {
   "cell_type": "markdown",
   "id": "6af72088-3173-48c1-836d-c007bd4b783d",
   "metadata": {},
   "source": [
    "### Images data & labels & output dir (Global Stuff)"
   ]
  },
  {
   "cell_type": "code",
   "execution_count": 2,
   "id": "465107bd-51fd-431b-8fed-159a2cc03cc0",
   "metadata": {},
   "outputs": [],
   "source": [
    "# Images\n",
    "_input_dir = r\"Z:\\Object_Detection\\SAROS_LABEL\"\n",
    "image_files = os.listdir(_input_dir)\n",
    "image_files = [os.path.join(_input_dir, _file) for _file in image_files if _file.endswith('.png')]\n",
    "\n",
    "# Label names\n",
    "labels = [\"skull\", \"shoulder\", \"humerus\", \"vertebrae_C\", \"thorax\", \"vertebrae_L\", \n",
    "                       \"forearm\", \"pelvis\", \"femur\", \"hand\", \"patella\", \"shin\", \"tarsal\", \"foot\"]\n",
    "\n",
    "output_dir = \"SAROS\"\n",
    "# Create results dir\n",
    "shutil.rmtree(output_dir, ignore_errors=True)\n",
    "os.makedirs(output_dir)"
   ]
  },
  {
   "cell_type": "markdown",
   "id": "08039ce5-e4da-4a68-90bb-4e82b2211455",
   "metadata": {},
   "source": [
    "### Functions"
   ]
  },
  {
   "cell_type": "code",
   "execution_count": 3,
   "id": "a5c9492f-4699-44a1-876f-50aedb325bd9",
   "metadata": {},
   "outputs": [],
   "source": [
    "def load_image(index):\n",
    "    \"\"\"Load an image from the list and display it in the widget.\"\"\"\n",
    "    try:\n",
    "        _img = cv2.imread(image_files[index])\n",
    "        # Get the original dimensions\n",
    "        _original_height, _original_width = _img.shape[:2]\n",
    "    \n",
    "        # Set the new height\n",
    "        _new_height = 500\n",
    "        \n",
    "        # Calculate the new width to preserve aspect ratio\n",
    "        _new_width = int((_new_height / _original_height) * _original_width)\n",
    "        \n",
    "        # Resize the image\n",
    "        _resized_image = cv2.resize(_img, (_new_width, _new_height), interpolation=cv2.INTER_LANCZOS4)\n",
    "        \n",
    "        # Define the fixed size (zero-padded) output dimensions\n",
    "        _fixed_height = 500\n",
    "        _fixed_width = max(500, _new_width)  # Example: Fixed width is at least 800 or the new width, whichever is greater\n",
    "        \n",
    "        # Create a new image with the fixed size and zero padding\n",
    "        _output_image = np.zeros((_fixed_height, _fixed_width, 3), dtype=np.uint8)\n",
    "        \n",
    "        # Calculate the position to paste the resized image\n",
    "        _x_offset = (_fixed_width - _new_width) // 2\n",
    "        _y_offset = (_fixed_height - _new_height) // 2\n",
    "        \n",
    "        # Paste the resized image onto the center of the fixed size image\n",
    "        _output_image[_y_offset:_y_offset+_new_height, _x_offset:_x_offset+_new_width] = _resized_image\n",
    "\n",
    "        # Convert the output image to a format that can be displayed in Jupyter\n",
    "        _output_image = cv2.cvtColor(_output_image, cv2.COLOR_BGR2RGB)\n",
    "        _pil_image = Image.fromarray(_output_image)\n",
    "        _buffer = io.BytesIO()\n",
    "        _pil_image.save(_buffer, format='JPEG')\n",
    "        _buffer.seek(0)\n",
    "\n",
    "        _image_widget.value = _buffer.read()\n",
    "    except Exception as _e:\n",
    "        print(f\"Error loading image: {_e}\")\n",
    "    \n",
    "    # Report\n",
    "    with _text_output:\n",
    "        clear_output(wait=True)\n",
    "        print(f\"Image {index+1:3} of {len(image_files)}\")\n",
    "    \n",
    "    # Load labels\n",
    "    _label_file = f\"{image_files[index].split('_reducted_image.png')[0]}_results.xlsx\"\n",
    "    _df = pd.read_excel(_label_file, index_col = 0)\n",
    "\n",
    "    # Load row\n",
    "    try:\n",
    "        _row = _df.loc[\"True\"]\n",
    "        #Set checkboxes   \n",
    "        for _checkbox in _checkboxes[:-1]: #Remember to escape placeholder\n",
    "            if _row[_checkbox.description] > 0:\n",
    "                _checkbox.value = True\n",
    "            else:\n",
    "                _checkbox.value = False\n",
    "    # Inform\n",
    "        with _text_output:\n",
    "            print(\"Loaded labels from xlsx\")\n",
    "    except:\n",
    "        pass\n",
    "\n",
    "def on_save_button_clicked(b):\n",
    "    global current_index\n",
    "    save_labels(current_index)\n",
    "    \n",
    "def save_labels(index):\n",
    "    \"\"\"Save the selected labels for the current image.\"\"\"\n",
    "    # Obtain labels\n",
    "    _selected_labels = [_checkbox.description for _checkbox in _checkboxes if _checkbox.value]\n",
    "    \n",
    "    # Report that saving is done\n",
    "    with _text_output:\n",
    "        print(f\"SavedImage: {image_files[index]}, Labels: {_selected_labels}\")\n",
    "\n",
    "    # Create export dir\n",
    "    _name = image_files[index].split(os.sep)[-1].split(\"_reducted\")[0]\n",
    "\n",
    "    # Make export dir\n",
    "    shutil.rmtree(os.path.join(output_dir, _name), ignore_errors=True)\n",
    "    os.makedirs(os.path.join(output_dir, _name))\n",
    "\n",
    "    # Export image \n",
    "    shutil.copy(image_files[index], os.path.join(output_dir, _name, \"reducted_image.png\"))\n",
    "\n",
    "    # Create pandas dataframe\n",
    "    _df = pd.DataFrame()\n",
    "    _df[\"True\"] = [1 if _label in _selected_labels else 0 for _label in labels]\n",
    "    _df = _df.T\n",
    "    _df.columns = labels\n",
    "    _df.to_excel(os.path.join(output_dir, _name, f\"labels.xlsx\"))\n",
    "    \n",
    "def on_next_button_clicked(b):\n",
    "    global current_index\n",
    "    current_index += 1\n",
    "    if current_index >= len(image_files):\n",
    "        current_index = 0\n",
    "    load_image(current_index)\n",
    "    display_widgets()\n",
    "\n",
    "def on_reset_button_clicked(b):\n",
    "    # Reset checkboxes\n",
    "    for _checkbox in _checkboxes:\n",
    "        _checkbox.value = False\n",
    "\n",
    "def on_prev_button_clicked(b):\n",
    "    global current_index\n",
    "    current_index -= 1\n",
    "    if current_index < 0:\n",
    "        current_index = len(image_files) - 1\n",
    "    load_image(current_index)\n",
    "    display_widgets()\n",
    "        "
   ]
  },
  {
   "cell_type": "markdown",
   "id": "a8ed4d30-ee52-43dd-a12f-e9ad1e3dc76c",
   "metadata": {},
   "source": [
    "### Create widgets"
   ]
  },
  {
   "cell_type": "code",
   "execution_count": 4,
   "id": "d1e02f55-f619-408e-bc5e-a5b2caf617d7",
   "metadata": {},
   "outputs": [
    {
     "data": {
      "text/html": [
       "\n",
       "<style>\n",
       "    .custom-checkbox input[type=\"checkbox\"] {\n",
       "        transform: scale(2.0);\n",
       "        margin-left: 20px;\n",
       "\n",
       "    }\n",
       "    .custom-checkbox label {\n",
       "        font-size: 18px;\n",
       "    }\n",
       "</style>\n"
      ],
      "text/plain": [
       "<IPython.core.display.HTML object>"
      ]
     },
     "metadata": {},
     "output_type": "display_data"
    }
   ],
   "source": [
    "# Apply custom CSS for larger checkboxes\n",
    "_custom_css = \"\"\"\n",
    "<style>\n",
    "    .custom-checkbox input[type=\"checkbox\"] {\n",
    "        transform: scale(2.0);\n",
    "        margin-left: 20px;\n",
    "\n",
    "    }\n",
    "    .custom-checkbox label {\n",
    "        font-size: 18px;\n",
    "    }\n",
    "</style>\n",
    "\"\"\"\n",
    "display(HTML(_custom_css))\n",
    "\n",
    "# Widget to display the current image\n",
    "_image_widget = widgets.Image(format='jpeg', width=500, height=500)\n",
    "\n",
    "# Create checkboxes for labels\n",
    "_checkboxes = []\n",
    "for _label in labels:\n",
    "    _checkbox = widgets.Checkbox(value=False, description = _label)\n",
    "    _checkbox.add_class(\"custom-checkbox\")\n",
    "    _checkboxes.append(_checkbox)\n",
    "\n",
    "# Fill the remaining cells in the last row with empty placeholders\n",
    "_num_columns = 3\n",
    "_num_labels = len(labels)\n",
    "_num_empty = (_num_columns - (_num_labels % _num_columns)) % _num_columns\n",
    "for _ in range(_num_empty):\n",
    "    _checkboxes.append(widgets.Label(''))\n",
    "\n",
    "# Arrange checkboxes in a grid with 5 columns and 3 rows\n",
    "_rows = [widgets.HBox(_checkboxes[_i:_i+_num_columns]) for _i in range(0, len(_checkboxes), _num_columns)]\n",
    "_checkbox_layout = widgets.VBox(_rows)\n",
    "\n",
    "# Button to go to the previous image\n",
    "_next_button = widgets.Button(description=\"Next\")\n",
    "\n",
    "# Button to save labels and go to the previous image\n",
    "_prev_button = widgets.Button(description=\"Previous\")\n",
    "\n",
    "# Button to save labels and go to the previous image\n",
    "_reset_button = widgets.Button(description=\"Reset\")\n",
    "\n",
    "# Button to save images\n",
    "_save_button = widgets.Button(description=\"Save\")\n",
    "\n",
    "# Link buttons to their functions\n",
    "_next_button.on_click(on_next_button_clicked)\n",
    "_prev_button.on_click(on_prev_button_clicked)\n",
    "_save_button.on_click(on_save_button_clicked)\n",
    "_reset_button.on_click(on_reset_button_clicked)\n",
    "\n",
    "# Display widgets\n",
    "_image_output = widgets.Output()\n",
    "_text_output = widgets.Output()"
   ]
  },
  {
   "cell_type": "markdown",
   "id": "b1d8233e-983d-44b4-9ccd-33bb2f21d76c",
   "metadata": {},
   "source": [
    "### Main"
   ]
  },
  {
   "cell_type": "code",
   "execution_count": 5,
   "id": "4a4ac0e5-f719-4aa7-8a76-4ef1e29be39f",
   "metadata": {},
   "outputs": [
    {
     "data": {
      "application/vnd.jupyter.widget-view+json": {
       "model_id": "d37cbaa22d604b3b9250c1c0476744e4",
       "version_major": 2,
       "version_minor": 0
      },
      "text/plain": [
       "Output()"
      ]
     },
     "metadata": {},
     "output_type": "display_data"
    },
    {
     "data": {
      "application/vnd.jupyter.widget-view+json": {
       "model_id": "5b12bd2d0ff9436286749eb361222071",
       "version_major": 2,
       "version_minor": 0
      },
      "text/plain": [
       "Output()"
      ]
     },
     "metadata": {},
     "output_type": "display_data"
    }
   ],
   "source": [
    "# Current image index\n",
    "current_index = 0\n",
    "\n",
    "# Load the first image\n",
    "load_image(current_index)\n",
    "\n",
    "def display_widgets():\n",
    "    with _image_output:\n",
    "        clear_output(wait=True)\n",
    "        display(\n",
    "            widgets.VBox([\n",
    "                widgets.HBox([_image_widget], layout=widgets.Layout(justify_content='center')),\n",
    "                _checkbox_layout,\n",
    "                widgets.HBox([_prev_button, _reset_button, _save_button, _next_button], layout=widgets.Layout(justify_content='center'))\n",
    "            ], layout=widgets.Layout(align_items='center'))\n",
    "        )\n",
    "\n",
    "        \n",
    "display_widgets()\n",
    "\n",
    "display(_image_output)\n",
    "display(_text_output)"
   ]
  }
 ],
 "metadata": {
  "kernelspec": {
   "display_name": "Python 3 (ipykernel)",
   "language": "python",
   "name": "python3"
  },
  "language_info": {
   "codemirror_mode": {
    "name": "ipython",
    "version": 3
   },
   "file_extension": ".py",
   "mimetype": "text/x-python",
   "name": "python",
   "nbconvert_exporter": "python",
   "pygments_lexer": "ipython3",
   "version": "3.10.11"
  }
 },
 "nbformat": 4,
 "nbformat_minor": 5
}
