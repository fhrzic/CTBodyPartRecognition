{
 "cells": [
  {
   "cell_type": "markdown",
   "id": "57a4049b-6263-41e9-89b4-203fa0138c67",
   "metadata": {},
   "source": [
    "## MAIN SCRIPT\n",
    "\n",
    "This is old scrpit for some remaping. However, it still can be used for statistics which is located at the end of the file."
   ]
  },
  {
   "cell_type": "code",
   "execution_count": 1,
   "id": "8368f8bc-c549-44b9-bec1-d50e6b3022c8",
   "metadata": {},
   "outputs": [],
   "source": [
    "import os\n",
    "import pandas as pd\n",
    "import shutil\n",
    "\n",
    "%load_ext autoreload\n",
    "%autoreload 2"
   ]
  },
  {
   "cell_type": "markdown",
   "id": "ffbb3f05-4b35-40a3-912a-7b889aebad3c",
   "metadata": {},
   "source": [
    "## Generate data - merge"
   ]
  },
  {
   "cell_type": "code",
   "execution_count": 2,
   "id": "a8dde00d-e992-4f3c-a2d1-69391e24d464",
   "metadata": {},
   "outputs": [],
   "source": [
    "_path = r\"C:\\Users\\CH258598\\Desktop\\FiteredDatasetNNMD256Subset\\CheckedOutNNMD\"\n",
    "_path_true = r\"C:\\Users\\CH258598\\Desktop\\FiteredDatasetNNMD256Subset\\OriginalData\"\n",
    "_output_dir = r\"C:\\Users\\CH258598\\Desktop\\FiteredDatasetNNMD256Subset\\FilteredDataNNMD256\"\n",
    "\n",
    "# List to store the paths of all .xlsx files\n",
    "_xlsx_files = []\n",
    "_xlsx_true_files = []\n",
    "\n",
    "# Walk through the directory and its subdirectories\n",
    "for _root, _dirs, _files in os.walk(_path):\n",
    "    for _file in _files:\n",
    "        if _file.endswith('.xlsx'):\n",
    "            _xlsx_files.append(os.path.join(_root, _file))\n",
    "\n",
    "# Walk through the directory and its subdirectories\n",
    "for _root, _dirs, _files in os.walk(_path_true):\n",
    "    for _file in _files:\n",
    "        if _file.endswith('.xlsx'):\n",
    "            _xlsx_true_files.append(os.path.join(_root, _file))\n",
    "\n",
    "\n",
    "for _file in _xlsx_files:\n",
    "    _name = os.path.basename(os.path.dirname(_file))\n",
    "    # Create export dir\n",
    "    #os.mkdir(os.path.join(_output_dir, _name))\n",
    "    for _file_true in _xlsx_true_files:\n",
    "        if _name in _file_true:\n",
    "            break\n",
    "\n",
    "    # Copy all data\n",
    "    shutil.copytree(os.path.dirname(_file_true), os.path.join(_output_dir, _name))\n",
    "    \n",
    "    # Override xlsx\n",
    "    _df_changed = pd.read_excel(_file, index_col = 0)\n",
    "    _df_original = pd.read_excel(_file_true, index_col = 0)\n",
    "    _df_changed.loc[\"True_original\"] = _df_original.loc[\"True\", :]\n",
    "    _df_changed.to_excel(os.path.join(_output_dir, _name, \"results.xlsx\")) "
   ]
  },
  {
   "cell_type": "markdown",
   "id": "3fd5f34f-4200-47eb-80b5-09f8a60aa0aa",
   "metadata": {},
   "source": [
    "### Calculate statitics"
   ]
  },
  {
   "cell_type": "code",
   "execution_count": 4,
   "id": "48c37728-1bba-4fe3-90c6-610a29c79dae",
   "metadata": {},
   "outputs": [],
   "source": [
    "from Utils.evaluate_xlsx import *"
   ]
  },
  {
   "cell_type": "code",
   "execution_count": 7,
   "id": "ac33b42f-ddd6-4a5f-8f31-d4e9d233ca30",
   "metadata": {},
   "outputs": [],
   "source": [
    "_my_container = statisticContainer(r\"cheatsheet_names.xlsx\")\n",
    "_my_container.load_dir(r\"C:\\Users\\CH258598\\Desktop\\FiteredDatasetNNMD256Subset\\FilteredDataNNMD256\")\n",
    "_my_container.generate_statistics(true_key = \"True\")\n",
    "_my_container.dump_data(f\"FilteredData256\")\n",
    "_my_container.load_dir(r\"C:\\Users\\CH258598\\Desktop\\FiteredDatasetNNMD256Subset\\FilteredDataNNMD256\")\n",
    "_my_container.generate_statistics(true_key = \"True_original\")\n",
    "_my_container.dump_data(f\"OrignialData256\")\n",
    "\n",
    "_my_container.export_to_xlsx(\"Filtered256Statistics.xlsx\")\n"
   ]
  },
  {
   "cell_type": "markdown",
   "id": "93937151-c8b5-4a48-a249-209ddfb5cac1",
   "metadata": {},
   "source": [
    "### Remap body parts "
   ]
  },
  {
   "cell_type": "code",
   "execution_count": null,
   "id": "dc3e9d1f-fae6-4d49-babb-1714f6bce8fa",
   "metadata": {},
   "outputs": [],
   "source": [
    "_remap_dict = {\n",
    "    \"skull\": [\"skull\"],\n",
    "    \"shoulder\": [\"clavicula\" ,\"scapula\"],\n",
    "    \"humerus\": [\"humerus\"],\n",
    "    \"vertebrae_C\": [\"vertebrae_C\"],\n",
    "    \"thorax\": [\"vertebrae_T\", \"sternum\", \"rib_1\", \"rib_2\", \"rib_3\", \"rib_4\", \"rib_5\", \"rib_6\", \"rib_7\", \"rib_8\", \"rib_9\", \"rib_10\", \"rib_11\", \"rib_12\"],\n",
    "    \"vertebrae_L\": [\"vertebrae_L\"],\n",
    "    \"forearm\": [\"ulna\", \"radius\"],\n",
    "    \"pelvis\": [\"hip\", \"vertebrae_S\", \"sacrum\"],\n",
    "    \"femur\": [\"femur\"],\n",
    "    \"hand\": [\"carpal\", \"metacarpal\", \"phalanges_hand\"],\n",
    "    \"patella\": [\"patella\"],\n",
    "    \"shin\": [\"tibia\", \"fibula\"],\n",
    "    \"tarsal\": [\"tarsal\"],\n",
    "    \"foot\":[\"metatarsal\", \"phalanges_feet\"]\n",
    "}\n"
   ]
  },
  {
   "cell_type": "markdown",
   "id": "ee610a55-d2cd-4e0a-8065-cc4b0aa5cc9c",
   "metadata": {},
   "source": [
    "### Rules\n",
    "\n",
    "And rule applies: (all bones must be present to give group label 1\n",
    "\n",
    "* shoulder : clavicula & scapula\n",
    "\n",
    "* forearm: ulna & radius\n",
    "\n",
    "* pelvis: hip & vertebrae_S & sacrum\n",
    "\n",
    "* hand: carpal & metacarpal & phalangs_hand\n",
    "\n",
    "* foot: metatarsal & phalanges_feet"
   ]
  },
  {
   "cell_type": "code",
   "execution_count": null,
   "id": "31872160-5e9d-47f4-afe3-1469a3922acf",
   "metadata": {},
   "outputs": [],
   "source": [
    "def apply_rules(input_dict: dict = None)->dict:\n",
    "    \"\"\"\n",
    "    Simple function which applies the rules defined above \n",
    "\n",
    "    Args:\n",
    "        * input_dict, dict, dict generated by the cell below\n",
    "    Output:\n",
    "        * output_dict, dict, dict with 1 and 0 for each body part with\n",
    "        rules abouve applied\n",
    "    \"\"\"\n",
    "    # Create storage\n",
    "    _output_dict = {}\n",
    "    # Go through keys/body_parts in input dir and map them\n",
    "    for _key in input_dict:\n",
    "        # shoulder, forearm, foot\n",
    "        if _key in [\"shoulder\", \"forearm\", \"foot\"]: \n",
    "            if input_dict[_key] == 2:\n",
    "                _output_dict[_key] = 1\n",
    "            else:\n",
    "                _output_dict[_key] = 0\n",
    "            continue\n",
    "        # pelvis, hand\n",
    "        if _key in [\"pelvis\", \"hand\"]: \n",
    "            if input_dict[_key] == 3:\n",
    "                _output_dict[_key] = 1\n",
    "            else:\n",
    "                _output_dict[_key] = 0\n",
    "            continue\n",
    "        # EE\n",
    "        if  input_dict[_key] >= 1:\n",
    "            _output_dict[_key] = 1\n",
    "        else:\n",
    "            _output_dict[_key] = 0\n",
    "    return _output_dict\n",
    "        \n",
    "        "
   ]
  },
  {
   "cell_type": "markdown",
   "id": "b246b06f-396e-4708-8019-b26420497969",
   "metadata": {},
   "source": [
    "#### Make remaped dir"
   ]
  },
  {
   "cell_type": "markdown",
   "id": "05f0b828-4e72-4a10-a309-5c8093489ad9",
   "metadata": {},
   "source": [
    "#### Remaped with filtering"
   ]
  },
  {
   "cell_type": "code",
   "execution_count": null,
   "id": "041be7b6-dd91-49b4-bc10-a66b5c346834",
   "metadata": {},
   "outputs": [],
   "source": [
    "_path = r\"C:\\Users\\CH258598\\Desktop\\FiteredDatasetNNMD256Subset\\FilteredDataNNMD256\"\n",
    "_output_dir = r\"C:\\Users\\CH258598\\Desktop\\FiteredDatasetNNMD256Subset\\FilteredDataNNMD256Remaped_withRules\"\n",
    "\n",
    "# List to store the paths of all .xlsx files\n",
    "_xlsx_files = []\n",
    "\n",
    "# Walk through the directory and its subdirectories\n",
    "for _root, _dirs, _files in os.walk(_path):\n",
    "    for _file in _files:\n",
    "        if _file.endswith('.xlsx'):\n",
    "            _xlsx_files.append(os.path.join(_root, _file))\n",
    "\n",
    "for _file in _xlsx_files:\n",
    "    _name = os.path.basename(os.path.dirname(_file))\n",
    "    # Copy all data\n",
    "    shutil.copytree(os.path.dirname(_file), os.path.join(_output_dir, _name))\n",
    "    \n",
    "    # Create new dict\n",
    "    _output_dict = {}\n",
    "    # Override xlsx\n",
    "    _df = pd.read_excel(_file, index_col = 0)\n",
    "    for _index in _df.index:\n",
    "        # Skip area\n",
    "        if _index == \"Area\":\n",
    "            continue\n",
    "        # Obtain row\n",
    "        _row = _df.loc[_index]\n",
    "        _row_dict = {}\n",
    "        for _key in _remap_dict:\n",
    "            _row_dict[_key] = 0\n",
    "        # Fil data\n",
    "        for _index_row in _row.index:\n",
    "            if _row[_index_row] == 1:\n",
    "                for _key in _remap_dict:\n",
    "                    if _index_row.strip() in _remap_dict[_key]:\n",
    "                        _row_dict[_key] += 1\n",
    "        _output_dict[_index] = _row_dict\n",
    "    for _key in list(_output_dict):\n",
    "        _output_dict[_key] = apply_rules(_output_dict[_key])\n",
    "    # Create _df & export\n",
    "    _df = pd.DataFrame.from_dict(_output_dict, orient='index')\n",
    "    _df.to_excel(os.path.join(_output_dir, _name, \"results.xlsx\"))\n"
   ]
  },
  {
   "cell_type": "markdown",
   "id": "586e7be0-08c5-49ee-bd76-6d00c367992e",
   "metadata": {},
   "source": [
    "#### Remaped withouth filtering"
   ]
  },
  {
   "cell_type": "code",
   "execution_count": null,
   "id": "268c510a-3822-43b6-94a6-6c865fc5b701",
   "metadata": {},
   "outputs": [],
   "source": [
    "_path = r\"C:\\Users\\CH258598\\Desktop\\FiteredDatasetNNMD256Subset\\FilteredDataNNMD256\"\n",
    "_output_dir = r\"C:\\Users\\CH258598\\Desktop\\FiteredDatasetNNMD256Subset\\FilteredDataNNMD256Remaped\"\n",
    "\n",
    "# List to store the paths of all .xlsx files\n",
    "_xlsx_files = []\n",
    "\n",
    "# Walk through the directory and its subdirectories\n",
    "for _root, _dirs, _files in os.walk(_path):\n",
    "    for _file in _files:\n",
    "        if _file.endswith('.xlsx'):\n",
    "            _xlsx_files.append(os.path.join(_root, _file))\n",
    "\n",
    "\n",
    "\n",
    "for _file in _xlsx_files:\n",
    "    _name = os.path.basename(os.path.dirname(_file))\n",
    "    # Copy all data\n",
    "    shutil.copytree(os.path.dirname(_file), os.path.join(_output_dir, _name))\n",
    "\n",
    "    \n",
    "    # Create new dict\n",
    "    _output_dict = {}\n",
    "    # Override xlsx\n",
    "    _df = pd.read_excel(_file, index_col = 0)\n",
    "    for _index in _df.index:\n",
    "        # Skip area\n",
    "        if _index == \"Area\":\n",
    "            continue\n",
    "        # Obtain row\n",
    "        _row = _df.loc[_index]\n",
    "        _row_dict = {}\n",
    "        for _key in _remap_dict:\n",
    "            _row_dict[_key] = 0\n",
    "        # Fil data\n",
    "        for _index_row in _row.index:\n",
    "            if _row[_index_row] == 1:\n",
    "                for _key in _remap_dict:\n",
    "                    if _index_row.strip() in _remap_dict[_key]:\n",
    "                        _row_dict[_key] = 1\n",
    "                        \n",
    "        _output_dict[_index] = _row_dict\n",
    "\n",
    "    # Create _df & export\n",
    "    _df = pd.DataFrame.from_dict(_output_dict, orient='index')\n",
    "    _df.to_excel(os.path.join(_output_dir, _name, \"results.xlsx\"))\n",
    "    "
   ]
  },
  {
   "cell_type": "markdown",
   "id": "caf2ea8b-905d-420c-9429-886aad26abb9",
   "metadata": {},
   "source": [
    "### Calculate statistics"
   ]
  },
  {
   "cell_type": "code",
   "execution_count": 5,
   "id": "a3e9dfa0-db54-45c3-a1f4-b13196a00ac7",
   "metadata": {},
   "outputs": [],
   "source": [
    "_my_container = statisticContainer(r\"C:\\Users\\CH258598\\Desktop\\FiteredDatasetNNMD256Subset\\DataGenerationScripts\\cheatsheet_names_remaped.xlsx\")\n",
    "_my_container.load_dir(r\"C:\\Users\\CH258598\\Desktop\\FiteredDatasetNNMD256Subset\\FilteredDataNNMD256Remaped_withRules\")\n",
    "_my_container.generate_statistics(true_key = \"True\")\n",
    "_my_container.dump_data(f\"FilteredDatawRules\")\n",
    "_my_container.load_dir(r\"C:\\Users\\CH258598\\Desktop\\FiteredDatasetNNMD256Subset\\FilteredDataNNMD256Remaped_withRules\")\n",
    "_my_container.generate_statistics(true_key = \"True_original\")\n",
    "_my_container.dump_data(f\"OrignialDatawRules\")\n",
    "\n",
    "_my_container.export_to_xlsx(\"Filtered256StatisticsREMAPED_withRules.xlsx\")\n"
   ]
  }
 ],
 "metadata": {
  "kernelspec": {
   "display_name": "Python 3 (ipykernel)",
   "language": "python",
   "name": "python3"
  },
  "language_info": {
   "codemirror_mode": {
    "name": "ipython",
    "version": 3
   },
   "file_extension": ".py",
   "mimetype": "text/x-python",
   "name": "python",
   "nbconvert_exporter": "python",
   "pygments_lexer": "ipython3",
   "version": "3.10.11"
  }
 },
 "nbformat": 4,
 "nbformat_minor": 5
}
