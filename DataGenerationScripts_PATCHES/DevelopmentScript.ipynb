{
 "cells": [
  {
   "cell_type": "markdown",
   "id": "b88ed80d-dfe3-4aeb-9096-31d8fe50916f",
   "metadata": {},
   "source": [
    "### Import Libs"
   ]
  },
  {
   "cell_type": "code",
   "execution_count": null,
   "id": "4e760381-812f-49e9-8a0d-7dbee3c71ce3",
   "metadata": {},
   "outputs": [],
   "source": [
    "from Utils.Conversion import *\n",
    "from Utils.PatchExport import *\n",
    "\n",
    "%load_ext autoreload\n",
    "%autoreload 2"
   ]
  },
  {
   "cell_type": "markdown",
   "id": "3d3207dc-d59a-470a-96ff-04dfd12ee3e1",
   "metadata": {},
   "source": [
    "### Data path"
   ]
  },
  {
   "cell_type": "code",
   "execution_count": null,
   "id": "7f7e8826-d1e3-4c8b-bdeb-e0abc1b082e0",
   "metadata": {},
   "outputs": [],
   "source": [
    "_input_dir_path = r\"pat_to_dir\"\n",
    "_my_container = patch_container(_input_dir_path)\n"
   ]
  },
  {
   "cell_type": "code",
   "execution_count": null,
   "id": "ace1ead1-f271-43af-9919-bb5149c58557",
   "metadata": {},
   "outputs": [],
   "source": [
    "_my_container.obtain_raw_blobs(_input_dir_path)"
   ]
  },
  {
   "cell_type": "code",
   "execution_count": null,
   "id": "28964fbd-ec5e-4065-8b58-058ab3da263d",
   "metadata": {},
   "outputs": [],
   "source": [
    "_my_container.merge_blobs(export_path = _input_dir_path,\n",
    "                        merging_criteria = \"reduced_cluster_remaped\")"
   ]
  },
  {
   "cell_type": "code",
   "execution_count": null,
   "id": "b1d70267-7050-488b-a8d6-dccbb9d91db5",
   "metadata": {},
   "outputs": [],
   "source": [
    "_xlsx_input_path = r\"results.xlsx\"\n",
    "_my_container.filter_blobs(xlsx_path = _xlsx_input_path,\n",
    "                          export_path = _input_dir_path)"
   ]
  },
  {
   "cell_type": "code",
   "execution_count": null,
   "id": "965f3b69-5499-4c2a-b037-18a637ee5c81",
   "metadata": {},
   "outputs": [],
   "source": [
    "_my_container.generate_nifti(export_path = _input_dir_path, file_name = \"filtered.nii\")"
   ]
  },
  {
   "cell_type": "code",
   "execution_count": null,
   "id": "7e3542b6-c49a-4eb2-903a-a140b38ca19b",
   "metadata": {},
   "outputs": [],
   "source": [
    "_my_container.find_biggest_blobs(export_path=_input_dir_path)"
   ]
  },
  {
   "cell_type": "code",
   "execution_count": null,
   "id": "041243e9-61d9-4c08-bf9e-352c36eb6c43",
   "metadata": {},
   "outputs": [],
   "source": [
    "_my_container.generate_nifti(export_path = _input_dir_path, file_name = \"biggest.nii\")"
   ]
  },
  {
   "cell_type": "code",
   "execution_count": null,
   "id": "54a3a53e-fa03-4d7d-9db8-2b9a70425664",
   "metadata": {},
   "outputs": [],
   "source": [
    "_name = os.path.basename(_input_dir_path)\n",
    "\n",
    "_input_file = os.path.join(_input_dir_path, f\"{_name}_biggest_blobs.json\")\n",
    "_segmentation_volume = os.path.join(_input_dir_path, f\"{_name}_filtered.nii\")\n",
    "_my_container.create_central_patches(biggest_blobs_path = _input_file,\n",
    "                                    segmentation_volume_path=_segmentation_volume,\n",
    "                                    width_height_dict = {\"min\": 128, \"max\": 1024, \"n\":5})\n"
   ]
  }
 ],
 "metadata": {
  "kernelspec": {
   "display_name": "Python 3 (ipykernel)",
   "language": "python",
   "name": "python3"
  },
  "language_info": {
   "codemirror_mode": {
    "name": "ipython",
    "version": 3
   },
   "file_extension": ".py",
   "mimetype": "text/x-python",
   "name": "python",
   "nbconvert_exporter": "python",
   "pygments_lexer": "ipython3",
   "version": "3.10.12"
  }
 },
 "nbformat": 4,
 "nbformat_minor": 5
}
