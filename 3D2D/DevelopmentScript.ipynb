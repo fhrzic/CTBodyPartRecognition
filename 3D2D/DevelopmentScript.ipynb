{
 "cells": [
  {
   "cell_type": "markdown",
   "id": "ab55f128-9667-4ba8-925d-d2b4a001d0e7",
   "metadata": {},
   "source": [
    "### Import libs"
   ]
  },
  {
   "cell_type": "code",
   "execution_count": null,
   "id": "4380b489-9a82-4c68-9a91-2a7efe456057",
   "metadata": {},
   "outputs": [],
   "source": [
    "from Utils.Containers import *\n",
    "import matplotlib.pyplot as plt\n",
    "from Utils.Conversion import *\n",
    "from einops import rearrange\n",
    "\n",
    "%config IPCompleter.greedy=True\n",
    "%load_ext autoreload\n",
    "%autoreload 2"
   ]
  },
  {
   "cell_type": "markdown",
   "id": "4df840e2-6f4e-4771-becd-cfde392af482",
   "metadata": {},
   "source": [
    "### Load item"
   ]
  },
  {
   "cell_type": "code",
   "execution_count": null,
   "id": "baf45edf-a349-4f81-94f0-a61fca187681",
   "metadata": {},
   "outputs": [],
   "source": [
    "_path = r\"C:\\Users\\CH258598\\Desktop\\Current Research\\case-100012\\omi\\incomingdir\\case-100012\\STANDARD_HEAD-NECK-U-EXT\\COR_ST_TORSO\"\n",
    "_path = r\"C:\\Users\\CH258598\\Desktop\\Current Research\\case-100012\\omi\\incomingdir\\case-100012\\STANDARD_HEAD-NECK-U-EXT\\SAG_ST_HEAD-NECK\"\n",
    "_path = r\"C:\\Users\\CH258598\\Desktop\\Current Research\\case-100012\\omi\\incomingdir\\case-100012\\STANDARD_HEAD-NECK-U-EXT\\COR_LUNG\"\n",
    "#_path = r\"C:\\Users\\CH258598\\Desktop\\Current Research\\case-100012\\omi\\incomingdir\\case-100012\\STANDARD_HEAD-NECK-U-EXT\\SAG_ST_TORSO\"\n",
    "#_path = r\"C:\\Users\\CH258598\\Desktop\\Current Research\\PlayingData\\case-100205\\omi\\incomingdir\\case-100205\\STANDARD_HEAD-NECK-U-EXT\\THIN_BONE_L-EXT\"\n",
    "_path = r\"C:\\Users\\CH258598\\Desktop\\Current Research\\PlayingData\\case-107290\\omi\\incomingdir\\case-107290\\STANDARD_HEAD-NECK-U-EXT\\THIN_BONE_HEAD\"\n",
    "_path = r\"C:\\Users\\CH258598\\Desktop\\Current Research\\3Dto2D\\TEST\"\n",
    "_path = r\"C:\\Users\\CH258598\\Desktop\\Current Research\\PlayingData\\case-100084\\omi\\incomingdir\\case-100084\\STANDARD_HEAD-NECK-U-EXT\\THIN_ST_L-EXT\"\n",
    "_container = SeriesContainer(verbose = True)\n",
    "_item = _container.obtain_data_from_series(path_dir = _path, mode='o')[0]\n",
    "\n",
    "print(_item['series_image_info'])\n",
    "print(_item['series_tags'])"
   ]
  },
  {
   "cell_type": "markdown",
   "id": "15ea50a9-d765-4a77-8045-634aa3344256",
   "metadata": {},
   "source": [
    "### Display image"
   ]
  },
  {
   "cell_type": "code",
   "execution_count": null,
   "id": "c4cfdf2e-f48f-4ca6-aee7-fb90f848d910",
   "metadata": {},
   "outputs": [],
   "source": [
    "## Sum array\n",
    "_image = _item['image']\n",
    "_summed_2d_array = np.sum(_image, axis=2)\n",
    "plt.imshow(_summed_2d_array, cmap='gray')\n",
    "plt.colorbar()\n",
    "plt.title('Summed 2D Array')\n",
    "plt.xlabel('X dimension')\n",
    "plt.ylabel('Y dimension')\n",
    "plt.show()\n"
   ]
  },
  {
   "cell_type": "markdown",
   "id": "7cfd4de8-c5eb-481a-944b-7989142913d3",
   "metadata": {},
   "source": [
    "### Generate coronal image"
   ]
  },
  {
   "cell_type": "code",
   "execution_count": null,
   "id": "be7cf59d-f298-4f3b-90c5-510214ebe225",
   "metadata": {},
   "outputs": [],
   "source": [
    "_reconstructed_image = reconstruct_image(_item)\n",
    "_resampled_image = resample_image(image = _reconstructed_image)\n",
    "_resampled_item = transfer_to_numpy(_resampled_image)\n",
    "_image = transfer_to_coronal(image = _resampled_item['image'], \n",
    "                   tags = _item['series_tags'])"
   ]
  },
  {
   "cell_type": "markdown",
   "id": "65c655b2-c3a5-4428-95d4-ff35dca9ead7",
   "metadata": {},
   "source": [
    "### Plot coronal image"
   ]
  },
  {
   "cell_type": "code",
   "execution_count": null,
   "id": "4b59606d-8f41-4d46-a712-bcd5c5984d9c",
   "metadata": {},
   "outputs": [],
   "source": [
    "_summed_2d_array = np.sum(_image, axis=2)\n",
    "plt.imshow(_summed_2d_array.T, cmap='gray')\n",
    "plt.colorbar()\n",
    "plt.title('Summed 2D Array')\n",
    "plt.xlabel('X dimension')\n",
    "plt.ylabel('Y dimension')\n",
    "plt.show()"
   ]
  },
  {
   "cell_type": "markdown",
   "id": "c3083416-5c44-4d7a-9653-76d1cb745cf1",
   "metadata": {},
   "source": [
    "### Show histogram"
   ]
  },
  {
   "cell_type": "code",
   "execution_count": null,
   "id": "c571d986-3115-4c5c-8e63-4dc45a991992",
   "metadata": {},
   "outputs": [],
   "source": [
    "plot_image_hist(_image, 1000)"
   ]
  },
  {
   "cell_type": "markdown",
   "id": "22698b1c-9255-4026-b03a-ab854a7a3a7a",
   "metadata": {},
   "source": [
    "### Do histogram reduction"
   ]
  },
  {
   "cell_type": "code",
   "execution_count": null,
   "id": "738bb6fb-a666-4bee-b982-5f24050423ae",
   "metadata": {},
   "outputs": [],
   "source": [
    "_image, _roi, min_value = histogram_reduction(image = _image,\n",
    "                                              search_region = 400,\n",
    "                                              reduction_factor = 50, \n",
    "                                              number_of_bins = 500,\n",
    "                                              upper_bound = 1200)\n",
    "print(f\"ROI: {_roi}, Min Value: {min_value}\")\n"
   ]
  },
  {
   "cell_type": "code",
   "execution_count": null,
   "id": "f8b13537-466f-40bb-8440-4b1b31e75c23",
   "metadata": {},
   "outputs": [],
   "source": [
    "#_image = transfer_to_coronal(image = _item['image'], \n",
    "#                  tags = _item['series_tags'])"
   ]
  },
  {
   "cell_type": "code",
   "execution_count": null,
   "id": "436fda98-b023-431b-99d5-660ee3178c95",
   "metadata": {},
   "outputs": [],
   "source": [
    "## Sum array\n",
    "_image = _image\n",
    "_summed_2d_array = np.sum(_image, axis=2)\n",
    "\n",
    "plt.imshow(_summed_2d_array.T, cmap='gray')\n",
    "plt.colorbar()\n",
    "#plt.clim(-500,500)\n",
    "plt.title('Summed 2D Array')\n",
    "plt.xlabel('X dimension')\n",
    "plt.ylabel('Y dimension')\n",
    "plt.savefig('tst1.png')\n",
    "plt.show()\n"
   ]
  },
  {
   "cell_type": "markdown",
   "id": "9bdd94fc-b132-44f5-a153-f5ef2d289f23",
   "metadata": {},
   "source": [
    "### ----------------------------------------------------------------------------------------------------------------------------------"
   ]
  },
  {
   "cell_type": "markdown",
   "id": "31c21431-2bd6-415c-ad8a-20dfac4055d1",
   "metadata": {},
   "source": [
    "# Extracting from zip -- full pipline test"
   ]
  },
  {
   "cell_type": "markdown",
   "id": "fc0b2d33-6f92-4b98-8b3f-f40cd1553097",
   "metadata": {},
   "source": [
    "### Libs"
   ]
  },
  {
   "cell_type": "code",
   "execution_count": null,
   "id": "df4bb637-05df-4d0e-9763-1a6019e6d54f",
   "metadata": {},
   "outputs": [],
   "source": [
    "import zipfile\n",
    "import os\n",
    "from Utils.Containers import *\n",
    "import matplotlib.pyplot as plt\n",
    "from Utils.Conversion import *\n",
    "import shutil\n",
    "%config IPCompleter.greedy=True\n",
    "%load_ext autoreload\n",
    "%autoreload 2"
   ]
  },
  {
   "cell_type": "markdown",
   "id": "e846e0d9-3f97-4232-b7b2-61075c8ca82c",
   "metadata": {},
   "source": [
    "### Get path"
   ]
  },
  {
   "cell_type": "code",
   "execution_count": null,
   "id": "14f3defb-0ff6-4202-b2ff-2bc22706ced3",
   "metadata": {},
   "outputs": [],
   "source": [
    "# Output dir\n",
    "_dir = r\"C:\\Users\\CH258598\\Desktop\\Current Research\\3Dto2D\\TEST\"\n",
    "# Input dir\n",
    "_path = r\"C:\\Users\\CH258598\\Desktop\\Current Research\\PlayingData\\case-100084.zip\""
   ]
  },
  {
   "cell_type": "markdown",
   "id": "c8acc734-5dc5-467b-86f4-3a6da5b4c8e3",
   "metadata": {},
   "source": [
    "### Read zip"
   ]
  },
  {
   "cell_type": "code",
   "execution_count": null,
   "id": "b7001173-0409-4310-a6e0-007b15d05842",
   "metadata": {},
   "outputs": [],
   "source": [
    "# Extract dcms from zip\n",
    "with zipfile.ZipFile(_path) as _zip_file:\n",
    "    for _member in _zip_file.namelist():\n",
    "        _filename = os.path.basename(_member)\n",
    "        # skip directories\n",
    "        if not _filename:\n",
    "            continue\n",
    "        if _member.endswith('.dcm'):\n",
    "            _middle_dir_name = os.path.basename(os.path.dirname(_member))\n",
    "            # copy file (taken from zipfile's extract)\n",
    "            _source = _zip_file.open(_member)\n",
    "            _target = open(os.path.join(_dir, f\"{_middle_dir_name}_{_filename}\"), \"wb\")\n",
    "            with _source, _target:\n",
    "                shutil.copyfileobj(_source, _target)\n",
    "_case_name = os.path.splitext(os.path.basename(_path))[0]\n",
    "print(_case_name)"
   ]
  },
  {
   "cell_type": "markdown",
   "id": "b1c0704e-6c1a-4314-abf4-9d7739a3fb98",
   "metadata": {},
   "source": [
    "### Get container"
   ]
  },
  {
   "cell_type": "code",
   "execution_count": null,
   "id": "22935b91-4040-478a-8b23-752201b9620b",
   "metadata": {},
   "outputs": [],
   "source": [
    "_container = SeriesContainer(verbose = True)\n",
    "_all_series = _container.obtain_data_from_series(path_dir = _dir, mode='o')"
   ]
  },
  {
   "cell_type": "markdown",
   "id": "2bcc73f0-7381-45ea-a401-58ce57671b7a",
   "metadata": {},
   "source": [
    "### Go through Series -> apply transforms and export"
   ]
  },
  {
   "cell_type": "code",
   "execution_count": null,
   "id": "4c0b5b23-f03a-463c-b95e-ade7d579ab30",
   "metadata": {},
   "outputs": [],
   "source": [
    "# Create storage dir\n",
    "os.makedirs(_case_name, exist_ok=True)\n",
    "# Iterate\n",
    "for _series in _all_series:\n",
    "    # Create SaveDir For EachSeries\n",
    "    _save_dir_name = os.path.basename(_series[\"main_d\"]) + \"__\" + _series[\"series_ID\"]\n",
    "    _save_dir = os.path.join(_case_name, _save_dir_name)\n",
    "    if not os.path.exists(_save_dir):\n",
    "        os.makedirs(_save_dir)\n",
    "\n",
    "    # Transfer to coronal\n",
    "    # Reconstruct image\n",
    "    _reconstructed_image = reconstruct_image(_series)\n",
    "    # Resample image\n",
    "    _resampled_image = resample_image(image = _reconstructed_image)\n",
    "    # Go to numpy\n",
    "    _resampled_item = transfer_to_numpy(_resampled_image)\n",
    "    # Export origin image\n",
    "    _image = transfer_to_coronal(image = _resampled_item['image'], \n",
    "                   tags = _series['series_tags'])\n",
    "    _summed_2d_array = np.sum(_image, axis=2)\n",
    "    plt.imshow(_summed_2d_array.T, cmap='gray')\n",
    "    plt.axis('off')\n",
    "    plt.savefig(os.path.join(_save_dir, \"origin_image.png\"), bbox_inches='tight', pad_inches=0, dpi = 300)\n",
    "\n",
    "\n",
    "    # Do histogram reduction\n",
    "    for _reduction_factor in [40, 50, 60, 70, 80, 90]:\n",
    "        _reducted_image, _roi, min_value = histogram_reduction(image = _image, \n",
    "                                                      search_region = 400,\n",
    "                                                      reduction_factor = _reduction_factor,\n",
    "                                                      number_of_bins = 500,\n",
    "                                                      upper_bound = 1200)\n",
    "    \n",
    "        _summed_2d_array = np.sum(_reducted_image, axis=2)\n",
    "        plt.imshow(_summed_2d_array.T, cmap='gray')\n",
    "        plt.axis('off')\n",
    "        plt.savefig(os.path.join(_save_dir, f\"{_reduction_factor}_reduction_image.png\"), bbox_inches='tight', pad_inches=0, dpi = 300)\n",
    "        "
   ]
  },
  {
   "cell_type": "markdown",
   "id": "fc850f68-33dc-4d71-87ea-e9b9f1886cc2",
   "metadata": {},
   "source": [
    "### ----------------------------------------------------------------------------------------------------------------------------------"
   ]
  },
  {
   "cell_type": "markdown",
   "id": "1eeef6d2-ad27-45d4-8fe1-0989b9baec09",
   "metadata": {},
   "source": [
    "## Show images in mozaik fashion"
   ]
  },
  {
   "cell_type": "code",
   "execution_count": null,
   "id": "0c72c413-3689-491b-9542-d93282b9d022",
   "metadata": {},
   "outputs": [],
   "source": [
    "from PIL import Image\n",
    "import os\n",
    "from multiprocessing import Process\n",
    "\n",
    "\n",
    "def create_gigapixel_image(folder_paths, output_path):\n",
    "    _images = []\n",
    "    _max_width = 0\n",
    "    _total_height = 0\n",
    "    _name = f\"{os.path.basename(os.path.dirname(folder_paths[0]))}_gigapixelimage.png\"\n",
    "    printe(\"Here\")\n",
    "    # Load images and calculate dimensions\n",
    "    for _folder_path in folder_paths:\n",
    "        _folder_images = []\n",
    "        for _filename in os.listdir(_folder_path):\n",
    "            if _filename.endswith('.jpg') or _filename.endswith('.png'):\n",
    "                _image = Image.open(os.path.join(_folder_path, _filename))\n",
    "                _max_width = max(_max_width, _image.width)\n",
    "                _folder_images.append(_image)\n",
    "                \n",
    "        _total_height += _image.height\n",
    "        _images.append(_folder_images)\n",
    "    \n",
    "    # Create gigapixel image\n",
    "    _gigapixel_image = Image.new('RGB', (_max_width * len(_folder_images), _total_height))\n",
    "    \n",
    "    # Paste images onto gigapixel image\n",
    "    _y_offset = 0\n",
    "    for _folder_images in _images:\n",
    "        _x_offset = 0\n",
    "        for _img in _folder_images:\n",
    "            _gigapixel_image.paste(_img, (_x_offset, _y_offset))\n",
    "            _x_offset += _max_width\n",
    "        _y_offset += _img.height\n",
    "    \n",
    "    # Save gigapixel image\n",
    "    _gigapixel_image.save(os.path.join(output_path, _name))\n",
    "\n",
    "# Example usage:\n",
    "_main_dir = r\"Z:\\Object_Detection_QC\\MultiProcessResults\"\n",
    "_output_path = \".\"\n",
    "\n",
    "for _dir in os.listdir(_main_dir):\n",
    "    _name = os.path.join(_main_dir, _dir)\n",
    "    _folder_paths = [os.path.abspath(os.path.join(_name, _d)) for _d in os.listdir(_name)]\n",
    "    _p = Process(target = create_gigapixel_image, args = (_folder_paths, _output_path,))\n",
    "    _p.start()\n",
    "_p.join()\n",
    "#directory = r\"C:\\Users\\CH258598\\Desktop\\Current Research\\3Dto2D\\case-122278\"\n",
    "#folder_paths = [os.path.abspath(os.path.join(directory, p)) for p in os.listdir(directory)]\n",
    "\n",
    "#create_gigapixel_image(folder_paths, output_path)"
   ]
  },
  {
   "cell_type": "code",
   "execution_count": 1,
   "id": "3e0dfdef-8c3e-47ab-ad95-ef42a2d13d11",
   "metadata": {},
   "outputs": [],
   "source": [
    "import zipfile\n",
    "import os\n",
    "from Utils.Containers import *\n",
    "import matplotlib.pyplot as plt\n",
    "from Utils.Conversion import *\n",
    "import shutil\n",
    "%config IPCompleter.greedy=True\n",
    "import time\n",
    "%load_ext autoreload\n",
    "%autoreload 2"
   ]
  },
  {
   "cell_type": "code",
   "execution_count": 3,
   "id": "67b03ae4-3ca8-4642-b454-c5efdb35f0a4",
   "metadata": {
    "scrolled": true
   },
   "outputs": [
    {
     "name": "stdout",
     "output_type": "stream",
     "text": [
      "Directory C:\\Users\\CH258598\\Desktop\\Current Research\\3Dto2D\\OMG_exp created.\n"
     ]
    }
   ],
   "source": [
    "_path_to_zip = r\"C:\\Users\\CH258598\\Desktop\\Current Research\\PlayingData\\case-122285.zip\"\n",
    "_target_dir = r\"C:\\Users\\CH258598\\Desktop\\Current Research\\3Dto2D\"\n",
    "_zip_export_dir = extract_zip(input_zip_path = _path_to_zip, \n",
    "                              target_dir_path = _target_dir,\n",
    "                             preserve_dir_structure = True,\n",
    "                             case_number = \"OMG\",\n",
    "                             verbose = True)\n"
   ]
  },
  {
   "cell_type": "code",
   "execution_count": 4,
   "id": "4917da16-379f-4f98-931b-abf0df890828",
   "metadata": {},
   "outputs": [
    {
     "name": "stdout",
     "output_type": "stream",
     "text": [
      "Found 26 potential series dirs in C:\\Users\\CH258598\\Desktop\\Current Research\\3Dto2D\\OMG_exp\n",
      "--------------------------------------------------------------------------------------\n",
      "In dir: C:\\Users\\CH258598\\Desktop\\Current Research\\3Dto2D\\OMG_exp\\omi\\incomingdir\\case-122285\\STANDARD_HEAD-NECK-U-EXT\\BONE_H-N-UXT_3X3 found 1 series.\n",
      "Working on series 1/1\n",
      "In dir: C:\\Users\\CH258598\\Desktop\\Current Research\\3Dto2D\\OMG_exp\\omi\\incomingdir\\case-122285\\STANDARD_HEAD-NECK-U-EXT\\BONE_L-EXT_3X3 found 1 series.\n",
      "Working on series 1/1\n",
      "In dir: C:\\Users\\CH258598\\Desktop\\Current Research\\3Dto2D\\OMG_exp\\omi\\incomingdir\\case-122285\\STANDARD_HEAD-NECK-U-EXT\\BONE_TORSO_3_X_3 found 1 series.\n",
      "Working on series 1/1\n",
      "In dir: C:\\Users\\CH258598\\Desktop\\Current Research\\3Dto2D\\OMG_exp\\omi\\incomingdir\\case-122285\\STANDARD_HEAD-NECK-U-EXT\\COR_BN_HEAD-_NECK found 1 series.\n",
      "Working on series 1/1\n",
      "In dir: C:\\Users\\CH258598\\Desktop\\Current Research\\3Dto2D\\OMG_exp\\omi\\incomingdir\\case-122285\\STANDARD_HEAD-NECK-U-EXT\\COR_BONE_TORSO found 1 series.\n",
      "Working on series 1/1\n",
      "In dir: C:\\Users\\CH258598\\Desktop\\Current Research\\3Dto2D\\OMG_exp\\omi\\incomingdir\\case-122285\\STANDARD_HEAD-NECK-U-EXT\\COR_LUNG found 1 series.\n",
      "Working on series 1/1\n",
      "In dir: C:\\Users\\CH258598\\Desktop\\Current Research\\3Dto2D\\OMG_exp\\omi\\incomingdir\\case-122285\\STANDARD_HEAD-NECK-U-EXT\\COR_ST_HEAD-_NECK found 1 series.\n",
      "Working on series 1/1\n",
      "In dir: C:\\Users\\CH258598\\Desktop\\Current Research\\3Dto2D\\OMG_exp\\omi\\incomingdir\\case-122285\\STANDARD_HEAD-NECK-U-EXT\\COR_ST_TORSO found 1 series.\n",
      "Working on series 1/1\n",
      "In dir: C:\\Users\\CH258598\\Desktop\\Current Research\\3Dto2D\\OMG_exp\\omi\\incomingdir\\case-122285\\STANDARD_HEAD-NECK-U-EXT\\SAG_BN_HEAD-_NECK found 1 series.\n",
      "Working on series 1/1\n",
      "In dir: C:\\Users\\CH258598\\Desktop\\Current Research\\3Dto2D\\OMG_exp\\omi\\incomingdir\\case-122285\\STANDARD_HEAD-NECK-U-EXT\\SAG_BONE_TORSO found 1 series.\n",
      "Working on series 1/1\n",
      "In dir: C:\\Users\\CH258598\\Desktop\\Current Research\\3Dto2D\\OMG_exp\\omi\\incomingdir\\case-122285\\STANDARD_HEAD-NECK-U-EXT\\SAG_ST_HEAD-_NECK found 1 series.\n",
      "Working on series 1/1\n",
      "In dir: C:\\Users\\CH258598\\Desktop\\Current Research\\3Dto2D\\OMG_exp\\omi\\incomingdir\\case-122285\\STANDARD_HEAD-NECK-U-EXT\\SAG_ST_TORSO found 1 series.\n",
      "Working on series 1/1\n",
      "In dir: C:\\Users\\CH258598\\Desktop\\Current Research\\3Dto2D\\OMG_exp\\omi\\incomingdir\\case-122285\\STANDARD_HEAD-NECK-U-EXT\\SCOUT found 3 series.\n",
      "Working on series 1/3\n",
      "\tERROR: Volume contains lass than 10 slices in one of the dimensions ((2, 819, 512))!!!\n",
      "Working on series 2/3\n",
      "\tERROR: Volume contains lass than 10 slices in one of the dimensions ((2, 819, 512))!!!\n",
      "Working on series 3/3\n",
      "\tERROR: Volume contains lass than 10 slices in one of the dimensions ((2, 972, 512))!!!\n",
      "In dir: C:\\Users\\CH258598\\Desktop\\Current Research\\3Dto2D\\OMG_exp\\omi\\incomingdir\\case-122285\\STANDARD_HEAD-NECK-U-EXT\\ST_H-N-UEXT_3X3 found 1 series.\n",
      "Working on series 1/1\n",
      "In dir: C:\\Users\\CH258598\\Desktop\\Current Research\\3Dto2D\\OMG_exp\\omi\\incomingdir\\case-122285\\STANDARD_HEAD-NECK-U-EXT\\ST_L-EXT_3X3 found 1 series.\n",
      "Working on series 1/1\n",
      "In dir: C:\\Users\\CH258598\\Desktop\\Current Research\\3Dto2D\\OMG_exp\\omi\\incomingdir\\case-122285\\STANDARD_HEAD-NECK-U-EXT\\ST_TORSO_3X3 found 1 series.\n",
      "Working on series 1/1\n",
      "In dir: C:\\Users\\CH258598\\Desktop\\Current Research\\3Dto2D\\OMG_exp\\omi\\incomingdir\\case-122285\\STANDARD_HEAD-NECK-U-EXT\\THIN_BONE_HD-UXT found 1 series.\n",
      "Working on series 1/1\n",
      "In dir: C:\\Users\\CH258598\\Desktop\\Current Research\\3Dto2D\\OMG_exp\\omi\\incomingdir\\case-122285\\STANDARD_HEAD-NECK-U-EXT\\THIN_BONE_HEAD found 1 series.\n",
      "Working on series 1/1\n",
      "In dir: C:\\Users\\CH258598\\Desktop\\Current Research\\3Dto2D\\OMG_exp\\omi\\incomingdir\\case-122285\\STANDARD_HEAD-NECK-U-EXT\\THIN_BONE_L-EXT found 1 series.\n",
      "Working on series 1/1\n",
      "In dir: C:\\Users\\CH258598\\Desktop\\Current Research\\3Dto2D\\OMG_exp\\omi\\incomingdir\\case-122285\\STANDARD_HEAD-NECK-U-EXT\\THIN_BONE_TORSO found 1 series.\n",
      "Working on series 1/1\n",
      "In dir: C:\\Users\\CH258598\\Desktop\\Current Research\\3Dto2D\\OMG_exp\\omi\\incomingdir\\case-122285\\STANDARD_HEAD-NECK-U-EXT\\THIN_LUNG found 1 series.\n",
      "Working on series 1/1\n",
      "In dir: C:\\Users\\CH258598\\Desktop\\Current Research\\3Dto2D\\OMG_exp\\omi\\incomingdir\\case-122285\\STANDARD_HEAD-NECK-U-EXT\\THIN_ST_H-N-UXT found 1 series.\n",
      "Working on series 1/1\n",
      "In dir: C:\\Users\\CH258598\\Desktop\\Current Research\\3Dto2D\\OMG_exp\\omi\\incomingdir\\case-122285\\STANDARD_HEAD-NECK-U-EXT\\THIN_ST_HEAD found 1 series.\n",
      "Working on series 1/1\n",
      "In dir: C:\\Users\\CH258598\\Desktop\\Current Research\\3Dto2D\\OMG_exp\\omi\\incomingdir\\case-122285\\STANDARD_HEAD-NECK-U-EXT\\THIN_ST_L-EXT found 1 series.\n",
      "Working on series 1/1\n",
      "In dir: C:\\Users\\CH258598\\Desktop\\Current Research\\3Dto2D\\OMG_exp\\omi\\incomingdir\\case-122285\\STANDARD_HEAD-NECK-U-EXT\\THIN_ST_TORSO found 1 series.\n",
      "Working on series 1/1\n",
      "In dir: C:\\Users\\CH258598\\Desktop\\Current Research\\3Dto2D\\OMG_exp\\omi\\incomingdir\\case-122285\\STANDARD_HEAD-NECK-U-EXT\\TRUE_BRAIN found 1 series.\n",
      "Working on series 1/1\n",
      "Total number of found series is: 25\n",
      "--------------------------------------------------------------------------------------\n"
     ]
    }
   ],
   "source": [
    "_container = SeriesContainer(verbose = True)\n",
    "_all_series = _container.obtain_data_from_series(path_dir = _zip_export_dir, mode='o')"
   ]
  },
  {
   "cell_type": "code",
   "execution_count": null,
   "id": "d7771a3d-6822-4f04-81e0-9c5b8075309e",
   "metadata": {},
   "outputs": [],
   "source": [
    "_container = SeriesContainer(verbose = True)\n",
    "#_zip_export_dir = r\"C:\\Users\\CH258598\\Desktop\\Current Research\\PlayingData\\case-122285 - Copy\"\n",
    "_all_series = _container.obtain_data_from_series(path_dir = _zip_export_dir, mode='o')"
   ]
  },
  {
   "cell_type": "code",
   "execution_count": 7,
   "id": "6a66d6fd-47b0-4dbf-88f0-c1a1b320e608",
   "metadata": {
    "scrolled": true
   },
   "outputs": [
    {
     "name": "stdout",
     "output_type": "stream",
     "text": [
      "Directory Results already exists, appending to it!\n",
      "--------------------------------------------------------------------------------------\n",
      "Exporting case-122285__1.2.840.113704.1.111.6764.1403268662.24\n",
      "Exporting case-122285__1.2.840.113704.1.111.7320.1403269151.18\n",
      "Exporting case-122285__1.2.840.113704.1.111.6324.1403268918.25\n",
      "Exporting case-122285__1.2.840.113704.7.1.1.9940.1403532142.1\n",
      "Exporting case-122285__1.2.840.113704.7.1.1.2328.1403532537.1\n",
      "Exporting case-122285__1.2.840.113704.7.1.1.7328.1403532638.1\n",
      "Exporting case-122285__1.2.840.113704.7.1.1.8200.1403531512.1\n",
      "Exporting case-122285__1.2.840.113704.7.1.1.5800.1403532259.1\n",
      "Exporting case-122285__1.2.840.113704.7.1.1.9940.1403532156.251\n",
      "Exporting case-122285__1.2.840.113704.7.1.1.2328.1403532553.308\n",
      "Exporting case-122285__1.2.840.113704.7.1.1.8200.1403531528.236\n",
      "Exporting case-122285__1.2.840.113704.7.1.1.5800.1403532385.311\n",
      "Exporting case-122285__1.2.840.113704.1.111.6764.1403268557.10\n",
      "Exporting case-122285__1.2.840.113704.1.111.7320.1403269065.10\n",
      "Exporting case-122285__1.2.840.113704.1.111.6324.1403268820.16\n",
      "Exporting case-122285__1.2.840.113704.1.111.6764.1403268662.22\n",
      "Exporting case-122285__1.2.840.113704.1.111.6764.1403268662.23\n",
      "Exporting case-122285__1.2.840.113704.1.111.7320.1403269151.17\n",
      "Exporting case-122285__1.2.840.113704.1.111.6324.1403268918.24\n",
      "Exporting case-122285__1.2.840.113704.1.111.6324.1403268918.26\n",
      "Exporting case-122285__1.2.840.113704.1.111.6764.1403268662.19\n",
      "Exporting case-122285__1.2.840.113704.1.111.6764.1403268662.20\n",
      "Exporting case-122285__1.2.840.113704.1.111.7320.1403269151.16\n",
      "Exporting case-122285__1.2.840.113704.1.111.6324.1403268918.23\n",
      "Exporting case-122285__1.2.840.113704.7.1.1.7592.1403531369.1\n",
      "159.0556559562683\n"
     ]
    }
   ],
   "source": [
    "start = time.time()\n",
    "_container.export_data_to_directory(export_dir_path=\"Results\", export_npy = False )\n",
    "end = time.time()\n",
    "print(end - start)"
   ]
  },
  {
   "cell_type": "code",
   "execution_count": 8,
   "id": "ae576da9-9da8-405a-80ec-3a68c89e865d",
   "metadata": {},
   "outputs": [
    {
     "name": "stdout",
     "output_type": "stream",
     "text": [
      "Directory Results already exists, appending to it!\n",
      "--------------------------------------------------------------------------------------\n",
      "Exporting case-122285__1.2.840.113704.1.111.6764.1403268662.24\n",
      "Exporting case-122285__1.2.840.113704.1.111.7320.1403269151.18\n",
      "Exporting case-122285__1.2.840.113704.1.111.6324.1403268918.25\n",
      "Exporting case-122285__1.2.840.113704.7.1.1.9940.1403532142.1\n",
      "Exporting case-122285__1.2.840.113704.7.1.1.2328.1403532537.1\n",
      "Exporting case-122285__1.2.840.113704.7.1.1.7328.1403532638.1\n",
      "Exporting case-122285__1.2.840.113704.7.1.1.8200.1403531512.1\n",
      "Exporting case-122285__1.2.840.113704.7.1.1.5800.1403532259.1\n",
      "Exporting case-122285__1.2.840.113704.7.1.1.9940.1403532156.251\n",
      "Exporting case-122285__1.2.840.113704.7.1.1.2328.1403532553.308\n",
      "Exporting case-122285__1.2.840.113704.7.1.1.8200.1403531528.236\n",
      "Exporting case-122285__1.2.840.113704.7.1.1.5800.1403532385.311\n",
      "Exporting case-122285__1.2.840.113704.1.111.6764.1403268557.10\n",
      "Exporting case-122285__1.2.840.113704.1.111.7320.1403269065.10\n",
      "Exporting case-122285__1.2.840.113704.1.111.6324.1403268820.16\n",
      "Exporting case-122285__1.2.840.113704.1.111.6764.1403268662.22\n",
      "Exporting case-122285__1.2.840.113704.1.111.6764.1403268662.23\n",
      "Exporting case-122285__1.2.840.113704.1.111.7320.1403269151.17\n",
      "Exporting case-122285__1.2.840.113704.1.111.6324.1403268918.24\n",
      "Exporting case-122285__1.2.840.113704.1.111.6324.1403268918.26\n",
      "Exporting case-122285__1.2.840.113704.1.111.6764.1403268662.19\n",
      "Exporting case-122285__1.2.840.113704.1.111.6764.1403268662.20\n",
      "Exporting case-122285__1.2.840.113704.1.111.7320.1403269151.16\n",
      "Exporting case-122285__1.2.840.113704.1.111.6324.1403268918.23\n",
      "Exporting case-122285__1.2.840.113704.7.1.1.7592.1403531369.1\n",
      "72.20380926132202\n"
     ]
    }
   ],
   "source": [
    "start = time.time()\n",
    "_container.export_images_to_directory(\"Results\",\n",
    "                                     resample_spacing = [1,1,1])\n",
    "end = time.time()\n",
    "print(end - start) 635"
   ]
  },
  {
   "cell_type": "code",
   "execution_count": 6,
   "id": "e61b1134-7218-475c-8fe4-acf0b5a0fb4e",
   "metadata": {},
   "outputs": [
    {
     "name": "stdout",
     "output_type": "stream",
     "text": [
      "Z:\\Object_Detection\\Samples\\Hip_test\\dcm\\CT.1.3.12.2.1107.5.1.4.57133.30000020081215391256200007821.dcm\n",
      "Image Size: (484, 484, 1)\n",
      "Z:\\Object_Detection\\Samples\\Hip_test\\dcm\\CT.1.3.12.2.1107.5.1.4.57133.30000020081215391256200007892.dcm\n",
      "Image Size: (512, 512, 1)\n",
      "Z:\\Object_Detection\\Samples\\Hip_test\\dcm\\CT.1.3.12.2.1107.5.1.4.57133.30000020081215391256200007891.dcm\n",
      "Image Size: (512, 512, 1)\n",
      "Z:\\Object_Detection\\Samples\\Hip_test\\dcm\\CT.1.3.12.2.1107.5.1.4.57133.30000020081215391256200007890.dcm\n",
      "Image Size: (512, 512, 1)\n",
      "Z:\\Object_Detection\\Samples\\Hip_test\\dcm\\CT.1.3.12.2.1107.5.1.4.57133.30000020081215391256200007889.dcm\n",
      "Image Size: (512, 512, 1)\n",
      "Z:\\Object_Detection\\Samples\\Hip_test\\dcm\\CT.1.3.12.2.1107.5.1.4.57133.30000020081215391256200007888.dcm\n",
      "Image Size: (512, 512, 1)\n",
      "Z:\\Object_Detection\\Samples\\Hip_test\\dcm\\CT.1.3.12.2.1107.5.1.4.57133.30000020081215391256200007887.dcm\n",
      "Image Size: (512, 512, 1)\n",
      "Z:\\Object_Detection\\Samples\\Hip_test\\dcm\\CT.1.3.12.2.1107.5.1.4.57133.30000020081215391256200007886.dcm\n",
      "Image Size: (512, 512, 1)\n",
      "Z:\\Object_Detection\\Samples\\Hip_test\\dcm\\CT.1.3.12.2.1107.5.1.4.57133.30000020081215391256200007885.dcm\n",
      "Image Size: (512, 512, 1)\n",
      "Z:\\Object_Detection\\Samples\\Hip_test\\dcm\\CT.1.3.12.2.1107.5.1.4.57133.30000020081215391256200007884.dcm\n",
      "Image Size: (512, 512, 1)\n",
      "Z:\\Object_Detection\\Samples\\Hip_test\\dcm\\CT.1.3.12.2.1107.5.1.4.57133.30000020081215391256200007883.dcm\n",
      "Image Size: (512, 512, 1)\n",
      "Z:\\Object_Detection\\Samples\\Hip_test\\dcm\\CT.1.3.12.2.1107.5.1.4.57133.30000020081215391256200007882.dcm\n",
      "Image Size: (512, 512, 1)\n",
      "Z:\\Object_Detection\\Samples\\Hip_test\\dcm\\CT.1.3.12.2.1107.5.1.4.57133.30000020081215391256200007881.dcm\n",
      "Image Size: (512, 512, 1)\n",
      "Z:\\Object_Detection\\Samples\\Hip_test\\dcm\\CT.1.3.12.2.1107.5.1.4.57133.30000020081215391256200007880.dcm\n",
      "Image Size: (512, 512, 1)\n",
      "Z:\\Object_Detection\\Samples\\Hip_test\\dcm\\CT.1.3.12.2.1107.5.1.4.57133.30000020081215391256200007879.dcm\n",
      "Image Size: (512, 512, 1)\n",
      "Z:\\Object_Detection\\Samples\\Hip_test\\dcm\\CT.1.3.12.2.1107.5.1.4.57133.30000020081215391256200007878.dcm\n",
      "Image Size: (512, 512, 1)\n",
      "Z:\\Object_Detection\\Samples\\Hip_test\\dcm\\CT.1.3.12.2.1107.5.1.4.57133.30000020081215391256200007877.dcm\n",
      "Image Size: (512, 512, 1)\n",
      "Z:\\Object_Detection\\Samples\\Hip_test\\dcm\\CT.1.3.12.2.1107.5.1.4.57133.30000020081215391256200007876.dcm\n",
      "Image Size: (512, 512, 1)\n",
      "Z:\\Object_Detection\\Samples\\Hip_test\\dcm\\CT.1.3.12.2.1107.5.1.4.57133.30000020081215391256200007875.dcm\n",
      "Image Size: (512, 512, 1)\n",
      "Z:\\Object_Detection\\Samples\\Hip_test\\dcm\\CT.1.3.12.2.1107.5.1.4.57133.30000020081215391256200007874.dcm\n",
      "Image Size: (512, 512, 1)\n",
      "Z:\\Object_Detection\\Samples\\Hip_test\\dcm\\CT.1.3.12.2.1107.5.1.4.57133.30000020081215391256200007873.dcm\n",
      "Image Size: (512, 512, 1)\n",
      "Z:\\Object_Detection\\Samples\\Hip_test\\dcm\\CT.1.3.12.2.1107.5.1.4.57133.30000020081215391256200007872.dcm\n",
      "Image Size: (512, 512, 1)\n",
      "Z:\\Object_Detection\\Samples\\Hip_test\\dcm\\CT.1.3.12.2.1107.5.1.4.57133.30000020081215391256200007871.dcm\n",
      "Image Size: (512, 512, 1)\n",
      "Z:\\Object_Detection\\Samples\\Hip_test\\dcm\\CT.1.3.12.2.1107.5.1.4.57133.30000020081215391256200007870.dcm\n",
      "Image Size: (512, 512, 1)\n",
      "Z:\\Object_Detection\\Samples\\Hip_test\\dcm\\CT.1.3.12.2.1107.5.1.4.57133.30000020081215391256200007869.dcm\n",
      "Image Size: (512, 512, 1)\n",
      "Z:\\Object_Detection\\Samples\\Hip_test\\dcm\\CT.1.3.12.2.1107.5.1.4.57133.30000020081215391256200007868.dcm\n",
      "Image Size: (512, 512, 1)\n",
      "Z:\\Object_Detection\\Samples\\Hip_test\\dcm\\CT.1.3.12.2.1107.5.1.4.57133.30000020081215391256200007867.dcm\n",
      "Image Size: (512, 512, 1)\n",
      "Z:\\Object_Detection\\Samples\\Hip_test\\dcm\\CT.1.3.12.2.1107.5.1.4.57133.30000020081215391256200007866.dcm\n",
      "Image Size: (512, 512, 1)\n",
      "Z:\\Object_Detection\\Samples\\Hip_test\\dcm\\CT.1.3.12.2.1107.5.1.4.57133.30000020081215391256200007865.dcm\n",
      "Image Size: (512, 512, 1)\n",
      "Z:\\Object_Detection\\Samples\\Hip_test\\dcm\\CT.1.3.12.2.1107.5.1.4.57133.30000020081215391256200007864.dcm\n",
      "Image Size: (512, 512, 1)\n",
      "Z:\\Object_Detection\\Samples\\Hip_test\\dcm\\CT.1.3.12.2.1107.5.1.4.57133.30000020081215391256200007863.dcm\n",
      "Image Size: (512, 512, 1)\n",
      "Z:\\Object_Detection\\Samples\\Hip_test\\dcm\\CT.1.3.12.2.1107.5.1.4.57133.30000020081215391256200007862.dcm\n",
      "Image Size: (512, 512, 1)\n",
      "Z:\\Object_Detection\\Samples\\Hip_test\\dcm\\CT.1.3.12.2.1107.5.1.4.57133.30000020081215391256200007861.dcm\n",
      "Image Size: (512, 512, 1)\n",
      "Z:\\Object_Detection\\Samples\\Hip_test\\dcm\\CT.1.3.12.2.1107.5.1.4.57133.30000020081215391256200007860.dcm\n",
      "Image Size: (512, 512, 1)\n",
      "Z:\\Object_Detection\\Samples\\Hip_test\\dcm\\CT.1.3.12.2.1107.5.1.4.57133.30000020081215391256200007859.dcm\n",
      "Image Size: (512, 512, 1)\n",
      "Z:\\Object_Detection\\Samples\\Hip_test\\dcm\\CT.1.3.12.2.1107.5.1.4.57133.30000020081215391256200007858.dcm\n",
      "Image Size: (512, 512, 1)\n",
      "Z:\\Object_Detection\\Samples\\Hip_test\\dcm\\CT.1.3.12.2.1107.5.1.4.57133.30000020081215391256200007857.dcm\n",
      "Image Size: (512, 512, 1)\n",
      "Z:\\Object_Detection\\Samples\\Hip_test\\dcm\\CT.1.3.12.2.1107.5.1.4.57133.30000020081215391256200007856.dcm\n",
      "Image Size: (512, 512, 1)\n",
      "Z:\\Object_Detection\\Samples\\Hip_test\\dcm\\CT.1.3.12.2.1107.5.1.4.57133.30000020081215391256200007855.dcm\n",
      "Image Size: (512, 512, 1)\n",
      "Z:\\Object_Detection\\Samples\\Hip_test\\dcm\\CT.1.3.12.2.1107.5.1.4.57133.30000020081215391256200007854.dcm\n",
      "Image Size: (512, 512, 1)\n",
      "Z:\\Object_Detection\\Samples\\Hip_test\\dcm\\CT.1.3.12.2.1107.5.1.4.57133.30000020081215391256200007853.dcm\n",
      "Image Size: (512, 512, 1)\n",
      "Z:\\Object_Detection\\Samples\\Hip_test\\dcm\\CT.1.3.12.2.1107.5.1.4.57133.30000020081215391256200007852.dcm\n",
      "Image Size: (512, 512, 1)\n",
      "Z:\\Object_Detection\\Samples\\Hip_test\\dcm\\CT.1.3.12.2.1107.5.1.4.57133.30000020081215391256200007851.dcm\n",
      "Image Size: (512, 512, 1)\n",
      "Z:\\Object_Detection\\Samples\\Hip_test\\dcm\\CT.1.3.12.2.1107.5.1.4.57133.30000020081215391256200007850.dcm\n",
      "Image Size: (512, 512, 1)\n",
      "Z:\\Object_Detection\\Samples\\Hip_test\\dcm\\CT.1.3.12.2.1107.5.1.4.57133.30000020081215391256200007849.dcm\n",
      "Image Size: (512, 512, 1)\n",
      "Z:\\Object_Detection\\Samples\\Hip_test\\dcm\\CT.1.3.12.2.1107.5.1.4.57133.30000020081215391256200007848.dcm\n",
      "Image Size: (512, 512, 1)\n",
      "Z:\\Object_Detection\\Samples\\Hip_test\\dcm\\CT.1.3.12.2.1107.5.1.4.57133.30000020081215391256200007847.dcm\n",
      "Image Size: (512, 512, 1)\n",
      "Z:\\Object_Detection\\Samples\\Hip_test\\dcm\\CT.1.3.12.2.1107.5.1.4.57133.30000020081215391256200007846.dcm\n",
      "Image Size: (512, 512, 1)\n",
      "Z:\\Object_Detection\\Samples\\Hip_test\\dcm\\CT.1.3.12.2.1107.5.1.4.57133.30000020081215391256200007845.dcm\n",
      "Image Size: (512, 512, 1)\n",
      "Z:\\Object_Detection\\Samples\\Hip_test\\dcm\\CT.1.3.12.2.1107.5.1.4.57133.30000020081215391256200007844.dcm\n",
      "Image Size: (512, 512, 1)\n",
      "Z:\\Object_Detection\\Samples\\Hip_test\\dcm\\CT.1.3.12.2.1107.5.1.4.57133.30000020081215391256200007843.dcm\n",
      "Image Size: (512, 512, 1)\n",
      "Z:\\Object_Detection\\Samples\\Hip_test\\dcm\\CT.1.3.12.2.1107.5.1.4.57133.30000020081215391256200007842.dcm\n",
      "Image Size: (512, 512, 1)\n",
      "Z:\\Object_Detection\\Samples\\Hip_test\\dcm\\CT.1.3.12.2.1107.5.1.4.57133.30000020081215391256200007841.dcm\n",
      "Image Size: (512, 512, 1)\n",
      "Z:\\Object_Detection\\Samples\\Hip_test\\dcm\\CT.1.3.12.2.1107.5.1.4.57133.30000020081215391256200007840.dcm\n",
      "Image Size: (512, 512, 1)\n",
      "Z:\\Object_Detection\\Samples\\Hip_test\\dcm\\CT.1.3.12.2.1107.5.1.4.57133.30000020081215391256200007839.dcm\n",
      "Image Size: (512, 512, 1)\n",
      "Z:\\Object_Detection\\Samples\\Hip_test\\dcm\\CT.1.3.12.2.1107.5.1.4.57133.30000020081215391256200007838.dcm\n",
      "Image Size: (512, 512, 1)\n",
      "Z:\\Object_Detection\\Samples\\Hip_test\\dcm\\CT.1.3.12.2.1107.5.1.4.57133.30000020081215391256200007837.dcm\n",
      "Image Size: (512, 512, 1)\n",
      "Z:\\Object_Detection\\Samples\\Hip_test\\dcm\\CT.1.3.12.2.1107.5.1.4.57133.30000020081215391256200007836.dcm\n",
      "Image Size: (512, 512, 1)\n",
      "Z:\\Object_Detection\\Samples\\Hip_test\\dcm\\CT.1.3.12.2.1107.5.1.4.57133.30000020081215391256200007835.dcm\n",
      "Image Size: (512, 512, 1)\n",
      "Z:\\Object_Detection\\Samples\\Hip_test\\dcm\\CT.1.3.12.2.1107.5.1.4.57133.30000020081215391256200007834.dcm\n",
      "Image Size: (512, 512, 1)\n",
      "Z:\\Object_Detection\\Samples\\Hip_test\\dcm\\CT.1.3.12.2.1107.5.1.4.57133.30000020081215391256200007833.dcm\n",
      "Image Size: (512, 512, 1)\n",
      "Z:\\Object_Detection\\Samples\\Hip_test\\dcm\\CT.1.3.12.2.1107.5.1.4.57133.30000020081215391256200007832.dcm\n",
      "Image Size: (512, 512, 1)\n",
      "Z:\\Object_Detection\\Samples\\Hip_test\\dcm\\CT.1.3.12.2.1107.5.1.4.57133.30000020081215391256200007831.dcm\n",
      "Image Size: (512, 512, 1)\n",
      "Z:\\Object_Detection\\Samples\\Hip_test\\dcm\\CT.1.3.12.2.1107.5.1.4.57133.30000020081215391256200007830.dcm\n",
      "Image Size: (512, 512, 1)\n",
      "Z:\\Object_Detection\\Samples\\Hip_test\\dcm\\CT.1.3.12.2.1107.5.1.4.57133.30000020081215391256200007829.dcm\n",
      "Image Size: (512, 512, 1)\n",
      "Z:\\Object_Detection\\Samples\\Hip_test\\dcm\\CT.1.3.12.2.1107.5.1.4.57133.30000020081215391256200007828.dcm\n",
      "Image Size: (512, 512, 1)\n",
      "Z:\\Object_Detection\\Samples\\Hip_test\\dcm\\CT.1.3.12.2.1107.5.1.4.57133.30000020081215391256200007827.dcm\n",
      "Image Size: (512, 512, 1)\n",
      "Z:\\Object_Detection\\Samples\\Hip_test\\dcm\\CT.1.3.12.2.1107.5.1.4.57133.30000020081215391256200007826.dcm\n",
      "Image Size: (512, 512, 1)\n",
      "Z:\\Object_Detection\\Samples\\Hip_test\\dcm\\CT.1.3.12.2.1107.5.1.4.57133.30000020081215391256200007825.dcm\n",
      "Image Size: (512, 512, 1)\n",
      "Z:\\Object_Detection\\Samples\\Hip_test\\dcm\\CT.1.3.12.2.1107.5.1.4.57133.30000020081215391256200007824.dcm\n",
      "Image Size: (512, 512, 1)\n",
      "Z:\\Object_Detection\\Samples\\Hip_test\\dcm\\CT.1.3.12.2.1107.5.1.4.57133.30000020081215391256200007823.dcm\n",
      "Image Size: (512, 512, 1)\n",
      "Z:\\Object_Detection\\Samples\\Hip_test\\dcm\\CT.1.3.12.2.1107.5.1.4.57133.30000020081215391256200007822.dcm\n",
      "Image Size: (512, 512, 1)\n"
     ]
    }
   ],
   "source": [
    "import SimpleITK as sitk\n",
    "import sys\n",
    "import os\n",
    "\n",
    "_dcm_files = ['Z:\\\\Object_Detection\\\\Samples\\\\Hip_test\\\\dcm\\\\CT.1.3.12.2.1107.5.1.4.57133.30000020081215391256200007821.dcm', 'Z:\\\\Object_Detection\\\\Samples\\\\Hip_test\\\\dcm\\\\CT.1.3.12.2.1107.5.1.4.57133.30000020081215391256200007892.dcm', 'Z:\\\\Object_Detection\\\\Samples\\\\Hip_test\\\\dcm\\\\CT.1.3.12.2.1107.5.1.4.57133.30000020081215391256200007891.dcm', 'Z:\\\\Object_Detection\\\\Samples\\\\Hip_test\\\\dcm\\\\CT.1.3.12.2.1107.5.1.4.57133.30000020081215391256200007890.dcm', 'Z:\\\\Object_Detection\\\\Samples\\\\Hip_test\\\\dcm\\\\CT.1.3.12.2.1107.5.1.4.57133.30000020081215391256200007889.dcm', 'Z:\\\\Object_Detection\\\\Samples\\\\Hip_test\\\\dcm\\\\CT.1.3.12.2.1107.5.1.4.57133.30000020081215391256200007888.dcm', 'Z:\\\\Object_Detection\\\\Samples\\\\Hip_test\\\\dcm\\\\CT.1.3.12.2.1107.5.1.4.57133.30000020081215391256200007887.dcm', 'Z:\\\\Object_Detection\\\\Samples\\\\Hip_test\\\\dcm\\\\CT.1.3.12.2.1107.5.1.4.57133.30000020081215391256200007886.dcm', 'Z:\\\\Object_Detection\\\\Samples\\\\Hip_test\\\\dcm\\\\CT.1.3.12.2.1107.5.1.4.57133.30000020081215391256200007885.dcm', 'Z:\\\\Object_Detection\\\\Samples\\\\Hip_test\\\\dcm\\\\CT.1.3.12.2.1107.5.1.4.57133.30000020081215391256200007884.dcm', 'Z:\\\\Object_Detection\\\\Samples\\\\Hip_test\\\\dcm\\\\CT.1.3.12.2.1107.5.1.4.57133.30000020081215391256200007883.dcm', 'Z:\\\\Object_Detection\\\\Samples\\\\Hip_test\\\\dcm\\\\CT.1.3.12.2.1107.5.1.4.57133.30000020081215391256200007882.dcm', 'Z:\\\\Object_Detection\\\\Samples\\\\Hip_test\\\\dcm\\\\CT.1.3.12.2.1107.5.1.4.57133.30000020081215391256200007881.dcm', 'Z:\\\\Object_Detection\\\\Samples\\\\Hip_test\\\\dcm\\\\CT.1.3.12.2.1107.5.1.4.57133.30000020081215391256200007880.dcm', 'Z:\\\\Object_Detection\\\\Samples\\\\Hip_test\\\\dcm\\\\CT.1.3.12.2.1107.5.1.4.57133.30000020081215391256200007879.dcm', 'Z:\\\\Object_Detection\\\\Samples\\\\Hip_test\\\\dcm\\\\CT.1.3.12.2.1107.5.1.4.57133.30000020081215391256200007878.dcm', 'Z:\\\\Object_Detection\\\\Samples\\\\Hip_test\\\\dcm\\\\CT.1.3.12.2.1107.5.1.4.57133.30000020081215391256200007877.dcm', 'Z:\\\\Object_Detection\\\\Samples\\\\Hip_test\\\\dcm\\\\CT.1.3.12.2.1107.5.1.4.57133.30000020081215391256200007876.dcm', 'Z:\\\\Object_Detection\\\\Samples\\\\Hip_test\\\\dcm\\\\CT.1.3.12.2.1107.5.1.4.57133.30000020081215391256200007875.dcm', 'Z:\\\\Object_Detection\\\\Samples\\\\Hip_test\\\\dcm\\\\CT.1.3.12.2.1107.5.1.4.57133.30000020081215391256200007874.dcm', 'Z:\\\\Object_Detection\\\\Samples\\\\Hip_test\\\\dcm\\\\CT.1.3.12.2.1107.5.1.4.57133.30000020081215391256200007873.dcm', 'Z:\\\\Object_Detection\\\\Samples\\\\Hip_test\\\\dcm\\\\CT.1.3.12.2.1107.5.1.4.57133.30000020081215391256200007872.dcm', 'Z:\\\\Object_Detection\\\\Samples\\\\Hip_test\\\\dcm\\\\CT.1.3.12.2.1107.5.1.4.57133.30000020081215391256200007871.dcm', 'Z:\\\\Object_Detection\\\\Samples\\\\Hip_test\\\\dcm\\\\CT.1.3.12.2.1107.5.1.4.57133.30000020081215391256200007870.dcm', 'Z:\\\\Object_Detection\\\\Samples\\\\Hip_test\\\\dcm\\\\CT.1.3.12.2.1107.5.1.4.57133.30000020081215391256200007869.dcm', 'Z:\\\\Object_Detection\\\\Samples\\\\Hip_test\\\\dcm\\\\CT.1.3.12.2.1107.5.1.4.57133.30000020081215391256200007868.dcm', 'Z:\\\\Object_Detection\\\\Samples\\\\Hip_test\\\\dcm\\\\CT.1.3.12.2.1107.5.1.4.57133.30000020081215391256200007867.dcm', 'Z:\\\\Object_Detection\\\\Samples\\\\Hip_test\\\\dcm\\\\CT.1.3.12.2.1107.5.1.4.57133.30000020081215391256200007866.dcm', 'Z:\\\\Object_Detection\\\\Samples\\\\Hip_test\\\\dcm\\\\CT.1.3.12.2.1107.5.1.4.57133.30000020081215391256200007865.dcm', 'Z:\\\\Object_Detection\\\\Samples\\\\Hip_test\\\\dcm\\\\CT.1.3.12.2.1107.5.1.4.57133.30000020081215391256200007864.dcm', 'Z:\\\\Object_Detection\\\\Samples\\\\Hip_test\\\\dcm\\\\CT.1.3.12.2.1107.5.1.4.57133.30000020081215391256200007863.dcm', 'Z:\\\\Object_Detection\\\\Samples\\\\Hip_test\\\\dcm\\\\CT.1.3.12.2.1107.5.1.4.57133.30000020081215391256200007862.dcm', 'Z:\\\\Object_Detection\\\\Samples\\\\Hip_test\\\\dcm\\\\CT.1.3.12.2.1107.5.1.4.57133.30000020081215391256200007861.dcm', 'Z:\\\\Object_Detection\\\\Samples\\\\Hip_test\\\\dcm\\\\CT.1.3.12.2.1107.5.1.4.57133.30000020081215391256200007860.dcm', 'Z:\\\\Object_Detection\\\\Samples\\\\Hip_test\\\\dcm\\\\CT.1.3.12.2.1107.5.1.4.57133.30000020081215391256200007859.dcm', 'Z:\\\\Object_Detection\\\\Samples\\\\Hip_test\\\\dcm\\\\CT.1.3.12.2.1107.5.1.4.57133.30000020081215391256200007858.dcm', 'Z:\\\\Object_Detection\\\\Samples\\\\Hip_test\\\\dcm\\\\CT.1.3.12.2.1107.5.1.4.57133.30000020081215391256200007857.dcm', 'Z:\\\\Object_Detection\\\\Samples\\\\Hip_test\\\\dcm\\\\CT.1.3.12.2.1107.5.1.4.57133.30000020081215391256200007856.dcm', 'Z:\\\\Object_Detection\\\\Samples\\\\Hip_test\\\\dcm\\\\CT.1.3.12.2.1107.5.1.4.57133.30000020081215391256200007855.dcm', 'Z:\\\\Object_Detection\\\\Samples\\\\Hip_test\\\\dcm\\\\CT.1.3.12.2.1107.5.1.4.57133.30000020081215391256200007854.dcm', 'Z:\\\\Object_Detection\\\\Samples\\\\Hip_test\\\\dcm\\\\CT.1.3.12.2.1107.5.1.4.57133.30000020081215391256200007853.dcm', 'Z:\\\\Object_Detection\\\\Samples\\\\Hip_test\\\\dcm\\\\CT.1.3.12.2.1107.5.1.4.57133.30000020081215391256200007852.dcm', 'Z:\\\\Object_Detection\\\\Samples\\\\Hip_test\\\\dcm\\\\CT.1.3.12.2.1107.5.1.4.57133.30000020081215391256200007851.dcm', 'Z:\\\\Object_Detection\\\\Samples\\\\Hip_test\\\\dcm\\\\CT.1.3.12.2.1107.5.1.4.57133.30000020081215391256200007850.dcm', 'Z:\\\\Object_Detection\\\\Samples\\\\Hip_test\\\\dcm\\\\CT.1.3.12.2.1107.5.1.4.57133.30000020081215391256200007849.dcm', 'Z:\\\\Object_Detection\\\\Samples\\\\Hip_test\\\\dcm\\\\CT.1.3.12.2.1107.5.1.4.57133.30000020081215391256200007848.dcm', 'Z:\\\\Object_Detection\\\\Samples\\\\Hip_test\\\\dcm\\\\CT.1.3.12.2.1107.5.1.4.57133.30000020081215391256200007847.dcm', 'Z:\\\\Object_Detection\\\\Samples\\\\Hip_test\\\\dcm\\\\CT.1.3.12.2.1107.5.1.4.57133.30000020081215391256200007846.dcm', 'Z:\\\\Object_Detection\\\\Samples\\\\Hip_test\\\\dcm\\\\CT.1.3.12.2.1107.5.1.4.57133.30000020081215391256200007845.dcm', 'Z:\\\\Object_Detection\\\\Samples\\\\Hip_test\\\\dcm\\\\CT.1.3.12.2.1107.5.1.4.57133.30000020081215391256200007844.dcm', 'Z:\\\\Object_Detection\\\\Samples\\\\Hip_test\\\\dcm\\\\CT.1.3.12.2.1107.5.1.4.57133.30000020081215391256200007843.dcm', 'Z:\\\\Object_Detection\\\\Samples\\\\Hip_test\\\\dcm\\\\CT.1.3.12.2.1107.5.1.4.57133.30000020081215391256200007842.dcm', 'Z:\\\\Object_Detection\\\\Samples\\\\Hip_test\\\\dcm\\\\CT.1.3.12.2.1107.5.1.4.57133.30000020081215391256200007841.dcm', 'Z:\\\\Object_Detection\\\\Samples\\\\Hip_test\\\\dcm\\\\CT.1.3.12.2.1107.5.1.4.57133.30000020081215391256200007840.dcm', 'Z:\\\\Object_Detection\\\\Samples\\\\Hip_test\\\\dcm\\\\CT.1.3.12.2.1107.5.1.4.57133.30000020081215391256200007839.dcm', 'Z:\\\\Object_Detection\\\\Samples\\\\Hip_test\\\\dcm\\\\CT.1.3.12.2.1107.5.1.4.57133.30000020081215391256200007838.dcm', 'Z:\\\\Object_Detection\\\\Samples\\\\Hip_test\\\\dcm\\\\CT.1.3.12.2.1107.5.1.4.57133.30000020081215391256200007837.dcm', 'Z:\\\\Object_Detection\\\\Samples\\\\Hip_test\\\\dcm\\\\CT.1.3.12.2.1107.5.1.4.57133.30000020081215391256200007836.dcm', 'Z:\\\\Object_Detection\\\\Samples\\\\Hip_test\\\\dcm\\\\CT.1.3.12.2.1107.5.1.4.57133.30000020081215391256200007835.dcm', 'Z:\\\\Object_Detection\\\\Samples\\\\Hip_test\\\\dcm\\\\CT.1.3.12.2.1107.5.1.4.57133.30000020081215391256200007834.dcm', 'Z:\\\\Object_Detection\\\\Samples\\\\Hip_test\\\\dcm\\\\CT.1.3.12.2.1107.5.1.4.57133.30000020081215391256200007833.dcm', 'Z:\\\\Object_Detection\\\\Samples\\\\Hip_test\\\\dcm\\\\CT.1.3.12.2.1107.5.1.4.57133.30000020081215391256200007832.dcm', 'Z:\\\\Object_Detection\\\\Samples\\\\Hip_test\\\\dcm\\\\CT.1.3.12.2.1107.5.1.4.57133.30000020081215391256200007831.dcm', 'Z:\\\\Object_Detection\\\\Samples\\\\Hip_test\\\\dcm\\\\CT.1.3.12.2.1107.5.1.4.57133.30000020081215391256200007830.dcm', 'Z:\\\\Object_Detection\\\\Samples\\\\Hip_test\\\\dcm\\\\CT.1.3.12.2.1107.5.1.4.57133.30000020081215391256200007829.dcm', 'Z:\\\\Object_Detection\\\\Samples\\\\Hip_test\\\\dcm\\\\CT.1.3.12.2.1107.5.1.4.57133.30000020081215391256200007828.dcm', 'Z:\\\\Object_Detection\\\\Samples\\\\Hip_test\\\\dcm\\\\CT.1.3.12.2.1107.5.1.4.57133.30000020081215391256200007827.dcm', 'Z:\\\\Object_Detection\\\\Samples\\\\Hip_test\\\\dcm\\\\CT.1.3.12.2.1107.5.1.4.57133.30000020081215391256200007826.dcm', 'Z:\\\\Object_Detection\\\\Samples\\\\Hip_test\\\\dcm\\\\CT.1.3.12.2.1107.5.1.4.57133.30000020081215391256200007825.dcm', 'Z:\\\\Object_Detection\\\\Samples\\\\Hip_test\\\\dcm\\\\CT.1.3.12.2.1107.5.1.4.57133.30000020081215391256200007824.dcm', 'Z:\\\\Object_Detection\\\\Samples\\\\Hip_test\\\\dcm\\\\CT.1.3.12.2.1107.5.1.4.57133.30000020081215391256200007823.dcm', 'Z:\\\\Object_Detection\\\\Samples\\\\Hip_test\\\\dcm\\\\CT.1.3.12.2.1107.5.1.4.57133.30000020081215391256200007822.dcm']\n",
    "\n",
    "for _dcm in _dcm_files:\n",
    "    print(_dcm)\n",
    "    reader = sitk.ImageFileReader()\n",
    "\n",
    "    reader.SetFileName(_dcm)\n",
    "    #reader.LoadPrivateTagsOn()\n",
    "\n",
    "    reader.ReadImageInformation()\n",
    "    print(f\"Image Size: {reader.GetSize()}\")\n",
    "#reader = sitk.ImageSeriesReader([_dcm])\n",
    "#print(\"Reading Dicom directory:\", sys.argv[1])\n",
    "\n",
    "\n",
    "#dicom_names = reader.GetGDCMSeriesFileNames(sys.argv[1])\n",
    "#reader.SetFileNames(dicom_names)\n",
    "\n",
    "#image = reader.Execute()\n",
    "\n",
    "#size = image.GetSize()\n",
    "#print(\"Image size:\", size[0], size[1], size[2])\n"
   ]
  }
 ],
 "metadata": {
  "kernelspec": {
   "display_name": "Python 3 (ipykernel)",
   "language": "python",
   "name": "python3"
  },
  "language_info": {
   "codemirror_mode": {
    "name": "ipython",
    "version": 3
   },
   "file_extension": ".py",
   "mimetype": "text/x-python",
   "name": "python",
   "nbconvert_exporter": "python",
   "pygments_lexer": "ipython3",
   "version": "3.10.11"
  }
 },
 "nbformat": 4,
 "nbformat_minor": 5
}
