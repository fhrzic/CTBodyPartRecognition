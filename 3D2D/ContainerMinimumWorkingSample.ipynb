{
 "cells": [
  {
   "cell_type": "markdown",
   "id": "43d449ee-7662-41c1-97a4-bb421ca34b8a",
   "metadata": {},
   "source": [
    "### Libs"
   ]
  },
  {
   "cell_type": "code",
   "execution_count": null,
   "id": "603b7542-9119-4fc1-8d73-8f5d4a707e50",
   "metadata": {},
   "outputs": [],
   "source": [
    "from Utils.Containers import *\n",
    "\n",
    "%load_ext autoreload\n",
    "%autoreload 2"
   ]
  },
  {
   "cell_type": "markdown",
   "id": "d1892153-98ec-4d28-a2f2-6b0287e5123d",
   "metadata": {},
   "source": [
    "### Directories"
   ]
  },
  {
   "cell_type": "code",
   "execution_count": null,
   "id": "3b8a9673-95f2-48c8-be16-920468abd10e",
   "metadata": {
    "jp-MarkdownHeadingCollapsed": true
   },
   "outputs": [],
   "source": [
    "# One folder containing series\n",
    "_dir_dicom1 = r\"path_to_dcm\"\n",
    "_dir_dicom2 = r\"path_to_dcm\"\n",
    "# Directory contatining multiple series\n",
    "_dir_dicom3 = r\"path_to_dcm\"\n",
    "_dir_dicom3 = r\"path_to_dcm\"\n",
    "_dir_dicom4 = r\"path_to_dcm\""
   ]
  },
  {
   "cell_type": "markdown",
   "id": "fef21b0c-0fce-4e4c-ba4a-bf23911aa149",
   "metadata": {},
   "source": [
    "### Create container"
   ]
  },
  {
   "cell_type": "code",
   "execution_count": null,
   "id": "34bf3f71-9460-442d-b302-29d8c795346a",
   "metadata": {},
   "outputs": [],
   "source": [
    "# Create container\n",
    "my_Container = SeriesContainer(verbose = True)"
   ]
  },
  {
   "cell_type": "markdown",
   "id": "c537df99-4aa5-41f0-9b02-3a785fca68c7",
   "metadata": {},
   "source": [
    "### Edit tags that will be loaded"
   ]
  },
  {
   "cell_type": "code",
   "execution_count": null,
   "id": "2d155ece-bded-4f0b-a7b4-df3dfd5e04c9",
   "metadata": {},
   "outputs": [],
   "source": [
    "# Set tags if necessary\n",
    "print(f\"Tags in my_Container: {my_Container.tag_list}\")\n",
    "my_Container.edit_tags([[\"StudyDate\", \"0008|0030\"]])\n",
    "print(f\"Tags in my_Container: {my_Container.tag_list}\")"
   ]
  },
  {
   "cell_type": "markdown",
   "id": "26de28bc-7ca1-4131-b57e-5522c6ec7e97",
   "metadata": {},
   "source": [
    "### Load directory"
   ]
  },
  {
   "cell_type": "code",
   "execution_count": null,
   "id": "f7c3547e-5bd6-4ad3-ae97-e04d0dc698bb",
   "metadata": {},
   "outputs": [],
   "source": [
    "# Load data\n",
    "my_Container.obtain_data_from_series(path_dir = _dir_dicom4, mode = 'o')\n",
    "\n",
    "# Print it\n",
    "print(len(my_Container), my_Container.data)\n",
    "\n",
    "# See all keys stored in for one series in container\n",
    "print(my_Container.data[0].keys())"
   ]
  },
  {
   "cell_type": "markdown",
   "id": "c81a14c2-805b-4c8d-a68a-2e14f2e9844f",
   "metadata": {},
   "source": [
    "### Add new one"
   ]
  },
  {
   "cell_type": "code",
   "execution_count": null,
   "id": "f5f09300-9bf7-4ae9-96ae-62af2351f2bd",
   "metadata": {},
   "outputs": [],
   "source": [
    "# Add new series\n",
    "my_Container.obtain_data_from_series(path_dir = _dir_dicom2, mode = 'a')\n",
    "\n",
    "# Check if it is added\n",
    "for _data in my_Container:\n",
    "    print(_data['main_dir'])"
   ]
  },
  {
   "cell_type": "markdown",
   "id": "824bff37-69f1-4af6-a801-f11c9bc7e656",
   "metadata": {},
   "source": [
    "### Add directory with all subdirectories"
   ]
  },
  {
   "cell_type": "code",
   "execution_count": null,
   "id": "41cf0904-3da0-4d17-bc4e-568b984788b5",
   "metadata": {},
   "outputs": [],
   "source": [
    "# Load data mode override\n",
    "my_Container.obtain_data_from_series(path_dir = _dir_dicom3, mode = 'o')\n",
    "\n",
    "# Print it\n",
    "print(f\"Number of series in container: {len(my_Container)}\")"
   ]
  },
  {
   "cell_type": "markdown",
   "id": "6081ac90-d108-494f-9e2d-afa6cd7c0501",
   "metadata": {},
   "source": [
    "### Reconstuct and preview image"
   ]
  },
  {
   "cell_type": "code",
   "execution_count": null,
   "id": "44bb5978-19c8-4c30-ac36-67e84adaaf83",
   "metadata": {},
   "outputs": [],
   "source": [
    "# Reconstructed image\n",
    "_image = reconstruct_image(my_Container.data[0], display = True)\n",
    "print(type(_image))\n",
    "_save_file = \"test.nii.gz\"\n",
    "sitk.WriteImage(_image, _save_file)\n"
   ]
  },
  {
   "cell_type": "markdown",
   "id": "002f6dfd-0f37-41cc-943f-6e347f3b746c",
   "metadata": {
    "scrolled": true
   },
   "source": [
    "### Export container to directory"
   ]
  },
  {
   "cell_type": "code",
   "execution_count": null,
   "id": "351d987d-66fa-4f61-a6dc-968caeae12fe",
   "metadata": {
    "scrolled": true
   },
   "outputs": [],
   "source": [
    "# Exporting to results\n",
    "my_Container.export_data_to_directory(\"results\", export_nifti = True, export_npy = True)"
   ]
  },
  {
   "cell_type": "markdown",
   "id": "9eeec716-d179-43ab-bee7-85febc9b23b7",
   "metadata": {},
   "source": [
    "### Load data from exported dir"
   ]
  },
  {
   "cell_type": "code",
   "execution_count": null,
   "id": "ff19dee7-29bc-492d-984c-65145fe33b96",
   "metadata": {},
   "outputs": [],
   "source": [
    "my_Container.load_data_from_directory(load_dir_path = \"results\")\n",
    "print(f\"Number of series in container: {len(my_Container)}\")"
   ]
  },
  {
   "cell_type": "markdown",
   "id": "6c36de53-3eb9-4320-8257-eacf153f6e7c",
   "metadata": {},
   "source": [
    "### Verify loaded data"
   ]
  },
  {
   "cell_type": "code",
   "execution_count": null,
   "id": "5bcb2ba2-49e8-412a-89e4-327b84705973",
   "metadata": {},
   "outputs": [],
   "source": [
    "# Find same pair\n",
    "_init_series_ID = my_Container.data[0][\"series_ID\"]\n",
    "\n",
    "for _i, _item in enumerate(my_Container):\n",
    "    if _i == 0:\n",
    "        continue\n",
    "\n",
    "    if _item[\"series_ID\"] == _init_series_ID:\n",
    "        reconstruct_image(_item, display = True)\n",
    "        break"
   ]
  },
  {
   "cell_type": "code",
   "execution_count": null,
   "id": "c8c181b6-bce4-4d54-bb5a-4f08fa76dd35",
   "metadata": {},
   "outputs": [],
   "source": [
    "import os\n",
    "def obtain_series_dirs(path_dir: str = None)->list:\n",
    "    \"\"\"\n",
    "    Method which seeks for the directories inside the main dir. It lists them\n",
    "    and returns them. If there is no subdirectories then it is assumed that given\n",
    "    directory is the one which contain series.\n",
    "\n",
    "    Args:\n",
    "        * path_dir, str, path to input dir in which we seek for series\n",
    "    \n",
    "    Return: list, list containing either given path (assuming that it contain series)\n",
    "        or list of subdirectories in given dir assuming they represent series.\n",
    "    \"\"\"\n",
    "    # Storage\n",
    "    _directories_list = []\n",
    "\n",
    "    # Find all directories inside the given directory which contain dcm file\n",
    "    # inside\n",
    "    for _root, _dirs, _files in os.walk(path_dir):\n",
    "        if any(_file.endswith('.dcm') for _file in _files):\n",
    "            _directories_list.append(_root)\n",
    "    print(_directories_list)\n",
    "    # Test\n",
    "    if not _directories_list:\n",
    "        print(f\"Found 1 potential series dir in {path_dir}\")\n",
    "        return [path_dir]\n",
    "    else:\n",
    "        print(f\"Found {len(_directories_list)} potential series dirs in {path_dir}\")\n",
    "        return _directories_list\n",
    "_dir = r\"path_to_dcm\"\n",
    "_q = obtain_series_dirs(_dir)"
   ]
  }
 ],
 "metadata": {
  "kernelspec": {
   "display_name": "Python 3 (ipykernel)",
   "language": "python",
   "name": "python3"
  },
  "language_info": {
   "codemirror_mode": {
    "name": "ipython",
    "version": 3
   },
   "file_extension": ".py",
   "mimetype": "text/x-python",
   "name": "python",
   "nbconvert_exporter": "python",
   "pygments_lexer": "ipython3",
   "version": "3.10.12"
  }
 },
 "nbformat": 4,
 "nbformat_minor": 5
}
