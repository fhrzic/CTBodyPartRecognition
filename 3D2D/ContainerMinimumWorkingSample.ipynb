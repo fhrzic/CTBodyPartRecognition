{
 "cells": [
  {
   "cell_type": "markdown",
   "id": "43d449ee-7662-41c1-97a4-bb421ca34b8a",
   "metadata": {},
   "source": [
    "### Libs"
   ]
  },
  {
   "cell_type": "code",
   "execution_count": 2,
   "id": "603b7542-9119-4fc1-8d73-8f5d4a707e50",
   "metadata": {},
   "outputs": [
    {
     "name": "stdout",
     "output_type": "stream",
     "text": [
      "The autoreload extension is already loaded. To reload it, use:\n",
      "  %reload_ext autoreload\n"
     ]
    }
   ],
   "source": [
    "from Utils.Containers import *\n",
    "\n",
    "%load_ext autoreload\n",
    "%autoreload 2"
   ]
  },
  {
   "cell_type": "markdown",
   "id": "d1892153-98ec-4d28-a2f2-6b0287e5123d",
   "metadata": {},
   "source": [
    "### Directories"
   ]
  },
  {
   "cell_type": "code",
   "execution_count": 3,
   "id": "3b8a9673-95f2-48c8-be16-920468abd10e",
   "metadata": {
    "jp-MarkdownHeadingCollapsed": true
   },
   "outputs": [],
   "source": [
    "# One folder containing series\n",
    "_dir_dicom1 = r\"C:\\Users\\CH258598\\Desktop\\Current Research\\case-100012\\omi\\incomingdir\\case-100012\\STANDARD_HEAD-NECK-U-EXT\\SAG_BONE_TORSO\"\n",
    "_dir_dicom2 = r\"C:\\Users\\CH258598\\Desktop\\Current Research\\case-100012\\omi\\incomingdir\\case-100012\\STANDARD_HEAD-NECK-U-EXT\\SAG_ST_TORSO\"\n",
    "# Directory contatining multiple series\n",
    "_dir_dicom3 = r\"C:\\Users\\CH258598\\Desktop\\Current Research\\case-100012\\omi\\incomingdir\\case-100012\\STANDARD_HEAD-NECK-U-EXT\"\n",
    "_dir_dicom3 = r\"C:\\Users\\CH258598\\Desktop\\Current Research\\PlayingData\\case-100205\\omi\\incomingdir\\case-100205\\STANDARD_HEAD-NECK-U-EXT\"\n",
    "_dir_dicom4 = r\"Z:\\Object_Detection\\Samples\\Ct-Lumbar Spine W-O Contrast\\0.6MM BONE - 4\""
   ]
  },
  {
   "cell_type": "markdown",
   "id": "fef21b0c-0fce-4e4c-ba4a-bf23911aa149",
   "metadata": {},
   "source": [
    "### Create container"
   ]
  },
  {
   "cell_type": "code",
   "execution_count": 4,
   "id": "34bf3f71-9460-442d-b302-29d8c795346a",
   "metadata": {},
   "outputs": [],
   "source": [
    "# Create container\n",
    "my_Container = SeriesContainer(verbose = True)"
   ]
  },
  {
   "cell_type": "markdown",
   "id": "c537df99-4aa5-41f0-9b02-3a785fca68c7",
   "metadata": {},
   "source": [
    "### Edit tags that will be loaded"
   ]
  },
  {
   "cell_type": "code",
   "execution_count": 5,
   "id": "2d155ece-bded-4f0b-a7b4-df3dfd5e04c9",
   "metadata": {},
   "outputs": [
    {
     "name": "stdout",
     "output_type": "stream",
     "text": [
      "Tags in my_Container: [['Modality', '0008|0060'], ['BodyPartExamined', '0018|0015'], ['SeriesDescription', '0008|103e'], ['SliceThickness', '0018|0050'], ['ImageOrientationPatient', '0020|0037']]\n",
      "Tags in my_Container: [['Modality', '0008|0060'], ['BodyPartExamined', '0018|0015'], ['SeriesDescription', '0008|103e'], ['SliceThickness', '0018|0050'], ['ImageOrientationPatient', '0020|0037'], ['StudyDate', '0008|0030']]\n"
     ]
    }
   ],
   "source": [
    "# Set tags if necessary\n",
    "print(f\"Tags in my_Container: {my_Container.tag_list}\")\n",
    "my_Container.edit_tags([[\"StudyDate\", \"0008|0030\"]])\n",
    "print(f\"Tags in my_Container: {my_Container.tag_list}\")"
   ]
  },
  {
   "cell_type": "markdown",
   "id": "26de28bc-7ca1-4131-b57e-5522c6ec7e97",
   "metadata": {},
   "source": [
    "### Load directory"
   ]
  },
  {
   "cell_type": "code",
   "execution_count": 6,
   "id": "f7c3547e-5bd6-4ad3-ae97-e04d0dc698bb",
   "metadata": {},
   "outputs": [
    {
     "name": "stdout",
     "output_type": "stream",
     "text": [
      "Found 1 potential series dirs in Z:\\Object_Detection\\Samples\\Ct-Lumbar Spine W-O Contrast\\0.6MM BONE - 4\n",
      "--------------------------------------------------------------------------------------\n",
      "In dir: Z:\\Object_Detection\\Samples\\Ct-Lumbar Spine W-O Contrast\\0.6MM BONE - 4 found 1 series.\n",
      "Working on series 1/1\n",
      "Total number of found series is: 1\n",
      "--------------------------------------------------------------------------------------\n",
      "1 [{'main_dir': 'Z:\\\\Object_Detection\\\\Samples\\\\Ct-Lumbar Spine W-O Contrast\\\\0.6MM BONE - 4', 'series_ID': '1.3.12.2.1107.5.1.4.75536.30000024012209561805700000190', 'series_tags': {'0008|0060': ['CT', 'Modality'], '0018|0015': ['SPINE ', 'BodyPartExamined'], '0008|103e': ['0.6MM BONE', 'SeriesDescription'], '0018|0050': ['0.6 ', 'SliceThickness'], '0020|0037': ['1\\\\0\\\\0\\\\0\\\\1\\\\0 ', 'ImageOrientationPatient'], '0008|0030': ['084551', 'StudyDate']}, 'series_image_info': {'size': (512, 512, 407), 'spacing': (0.26171875, 0.26171875, 0.30000000000000004), 'origin': (-53.869140625, -160.369140625, -408.3), 'direction': (1.0, 0.0, 0.0, 0.0, 1.0, 0.0, 0.0, 0.0, 1.0)}, 'image': array([[[  -36,   -90,  -128, ...,    24,     2,   -24],\n",
      "        [  -52,   -63,  -143, ...,    51,    28,   -10],\n",
      "        [  -95,  -100,   -97, ...,    70,    81,   -16],\n",
      "        ...,\n",
      "        [ -631,  -702,  -584, ..., -1024, -1024, -1024],\n",
      "        [ -733,  -657,  -675, ..., -1024, -1024, -1024],\n",
      "        [ -874,  -698,  -721, ..., -1024, -1024, -1024]],\n",
      "\n",
      "       [[   37,    -7,   -72, ...,    33,    37,    -7],\n",
      "        [  -29,     7,  -136, ...,    83,    29,   -11],\n",
      "        [  -66,   -43,  -108, ...,    72,     7,   -17],\n",
      "        ...,\n",
      "        [ -655,  -762,  -582, ..., -1024, -1024, -1024],\n",
      "        [ -798,  -655,  -672, ..., -1024, -1024, -1024],\n",
      "        [ -928,  -698,  -700, ..., -1021, -1024, -1024]],\n",
      "\n",
      "       [[   45,   100,    64, ...,    12,    40,    -9],\n",
      "        [  -14,    43,   -15, ...,    46,    25,    23],\n",
      "        [  -67,   -36,   -13, ...,    55,   -24,    32],\n",
      "        ...,\n",
      "        [ -622,  -606,  -569, ...,  -984, -1024, -1024],\n",
      "        [ -709,  -557,  -569, ..., -1024, -1024, -1024],\n",
      "        [ -783,  -639,  -652, ..., -1024, -1024, -1024]],\n",
      "\n",
      "       ...,\n",
      "\n",
      "       [[   61,     2,  -144, ...,  -217,    77,    28],\n",
      "        [   57,     5,  -113, ...,  -251,   175,    27],\n",
      "        [  -44,   113,   -14, ...,  -166,   134,   -74],\n",
      "        ...,\n",
      "        [-1024, -1024, -1003, ...,  -952,  -869, -1002],\n",
      "        [-1024, -1024,  -935, ...,  -932,  -858,  -949],\n",
      "        [-1024, -1024,  -877, ...,  -950,  -934,  -946]],\n",
      "\n",
      "       [[  166,   -45,   -92, ...,  -208,     0,    28],\n",
      "        [   53,   -72,   -66, ...,  -214,   124,    50],\n",
      "        [  -85,    12,    -4, ...,  -104,    80,    -7],\n",
      "        ...,\n",
      "        [-1024, -1024,  -907, ...,  -903,  -836,  -954],\n",
      "        [-1024, -1024,  -909, ...,  -876,  -777,  -914],\n",
      "        [-1024, -1024,  -838, ...,  -870,  -797,  -863]],\n",
      "\n",
      "       [[  157,  -100,    -5, ...,  -123,   -67,   -32],\n",
      "        [  -40,  -199,    -1, ...,   -84,    31,    85],\n",
      "        [ -175,  -117,   -26, ...,    35,    25,   128],\n",
      "        ...,\n",
      "        [-1024,  -958,  -854, ...,  -880,  -912,  -958],\n",
      "        [-1024, -1019,  -941, ...,  -868,  -812,  -901],\n",
      "        [-1007, -1024,  -944, ...,  -880,  -791,  -862]]], dtype=int16)}]\n",
      "dict_keys(['main_dir', 'series_ID', 'series_tags', 'series_image_info', 'image'])\n"
     ]
    }
   ],
   "source": [
    "# Load data\n",
    "my_Container.obtain_data_from_series(path_dir = _dir_dicom4, mode = 'o')\n",
    "\n",
    "# Print it\n",
    "print(len(my_Container), my_Container.data)\n",
    "\n",
    "# See all keys stored in for one series in container\n",
    "print(my_Container.data[0].keys())"
   ]
  },
  {
   "cell_type": "markdown",
   "id": "c81a14c2-805b-4c8d-a68a-2e14f2e9844f",
   "metadata": {},
   "source": [
    "### Add new one"
   ]
  },
  {
   "cell_type": "code",
   "execution_count": null,
   "id": "f5f09300-9bf7-4ae9-96ae-62af2351f2bd",
   "metadata": {},
   "outputs": [],
   "source": [
    "# Add new series\n",
    "my_Container.obtain_data_from_series(path_dir = _dir_dicom2, mode = 'a')\n",
    "\n",
    "# Check if it is added\n",
    "for _data in my_Container:\n",
    "    print(_data['main_dir'])"
   ]
  },
  {
   "cell_type": "markdown",
   "id": "824bff37-69f1-4af6-a801-f11c9bc7e656",
   "metadata": {},
   "source": [
    "### Add directory with all subdirectories"
   ]
  },
  {
   "cell_type": "code",
   "execution_count": null,
   "id": "41cf0904-3da0-4d17-bc4e-568b984788b5",
   "metadata": {},
   "outputs": [],
   "source": [
    "# Load data mode override\n",
    "my_Container.obtain_data_from_series(path_dir = _dir_dicom3, mode = 'o')\n",
    "\n",
    "# Print it\n",
    "print(f\"Number of series in container: {len(my_Container)}\")"
   ]
  },
  {
   "cell_type": "markdown",
   "id": "6081ac90-d108-494f-9e2d-afa6cd7c0501",
   "metadata": {},
   "source": [
    "### Reconstuct and preview image"
   ]
  },
  {
   "cell_type": "code",
   "execution_count": 7,
   "id": "44bb5978-19c8-4c30-ac36-67e84adaaf83",
   "metadata": {},
   "outputs": [
    {
     "name": "stdout",
     "output_type": "stream",
     "text": [
      "<class 'SimpleITK.SimpleITK.Image'>\n"
     ]
    }
   ],
   "source": [
    "# Reconstructed image\n",
    "_image = reconstruct_image(my_Container.data[0], display = True)\n",
    "print(type(_image))\n",
    "_save_file = \"test.nii.gz\"\n",
    "sitk.WriteImage(_image, _save_file)\n"
   ]
  },
  {
   "cell_type": "markdown",
   "id": "002f6dfd-0f37-41cc-943f-6e347f3b746c",
   "metadata": {
    "scrolled": true
   },
   "source": [
    "### Export container to directory"
   ]
  },
  {
   "cell_type": "code",
   "execution_count": 8,
   "id": "351d987d-66fa-4f61-a6dc-968caeae12fe",
   "metadata": {
    "scrolled": true
   },
   "outputs": [
    {
     "name": "stdout",
     "output_type": "stream",
     "text": [
      "Directory results created.\n",
      "--------------------------------------------------------------------------------------\n"
     ]
    },
    {
     "ename": "IndexError",
     "evalue": "list index out of range",
     "output_type": "error",
     "traceback": [
      "\u001b[1;31m---------------------------------------------------------------------------\u001b[0m",
      "\u001b[1;31mIndexError\u001b[0m                                Traceback (most recent call last)",
      "Cell \u001b[1;32mIn[8], line 2\u001b[0m\n\u001b[0;32m      1\u001b[0m \u001b[38;5;66;03m# Exporting to results\u001b[39;00m\n\u001b[1;32m----> 2\u001b[0m \u001b[43mmy_Container\u001b[49m\u001b[38;5;241;43m.\u001b[39;49m\u001b[43mexport_data_to_directory\u001b[49m\u001b[43m(\u001b[49m\u001b[38;5;124;43m\"\u001b[39;49m\u001b[38;5;124;43mresults\u001b[39;49m\u001b[38;5;124;43m\"\u001b[39;49m\u001b[43m,\u001b[49m\u001b[43m \u001b[49m\u001b[43mexport_nifti\u001b[49m\u001b[43m \u001b[49m\u001b[38;5;241;43m=\u001b[39;49m\u001b[43m \u001b[49m\u001b[38;5;28;43;01mTrue\u001b[39;49;00m\u001b[43m,\u001b[49m\u001b[43m \u001b[49m\u001b[43mexport_npy\u001b[49m\u001b[43m \u001b[49m\u001b[38;5;241;43m=\u001b[39;49m\u001b[43m \u001b[49m\u001b[38;5;28;43;01mTrue\u001b[39;49;00m\u001b[43m)\u001b[49m\n",
      "File \u001b[1;32m~\\Desktop\\MIG1-SYNC\\SCRIPTS\\3D2D\\Utils\\Containers.py:535\u001b[0m, in \u001b[0;36mSeriesContainer.export_data_to_directory\u001b[1;34m(self, export_dir_path, export_nifti, export_npy)\u001b[0m\n\u001b[0;32m    532\u001b[0m     \u001b[38;5;28mprint\u001b[39m(\u001b[38;5;124m\"\u001b[39m\u001b[38;5;124m--------------------------------------------------------------------------------------\u001b[39m\u001b[38;5;124m\"\u001b[39m)\n\u001b[0;32m    533\u001b[0m \u001b[38;5;28;01mfor\u001b[39;00m _series \u001b[38;5;129;01min\u001b[39;00m \u001b[38;5;28mself\u001b[39m\u001b[38;5;241m.\u001b[39mmain_data:\n\u001b[0;32m    534\u001b[0m     \u001b[38;5;66;03m# Create export name\u001b[39;00m\n\u001b[1;32m--> 535\u001b[0m     _main_name \u001b[38;5;241m=\u001b[39m \u001b[43m[\u001b[49m\u001b[43m_s\u001b[49m\u001b[43m \u001b[49m\u001b[38;5;28;43;01mfor\u001b[39;49;00m\u001b[43m \u001b[49m\u001b[43m_s\u001b[49m\u001b[43m \u001b[49m\u001b[38;5;129;43;01min\u001b[39;49;00m\u001b[43m \u001b[49m\u001b[43m_series\u001b[49m\u001b[43m[\u001b[49m\u001b[38;5;124;43m\"\u001b[39;49m\u001b[38;5;124;43mmain_dir\u001b[39;49m\u001b[38;5;124;43m\"\u001b[39;49m\u001b[43m]\u001b[49m\u001b[38;5;241;43m.\u001b[39;49m\u001b[43msplit\u001b[49m\u001b[43m(\u001b[49m\u001b[43mos\u001b[49m\u001b[38;5;241;43m.\u001b[39;49m\u001b[43msep\u001b[49m\u001b[43m)\u001b[49m\u001b[43m \u001b[49m\u001b[38;5;28;43;01mif\u001b[39;49;00m\u001b[43m \u001b[49m\u001b[38;5;124;43m\"\u001b[39;49m\u001b[38;5;124;43mcase\u001b[39;49m\u001b[38;5;124;43m\"\u001b[39;49m\u001b[43m \u001b[49m\u001b[38;5;129;43;01min\u001b[39;49;00m\u001b[43m \u001b[49m\u001b[43m_s\u001b[49m\u001b[43m]\u001b[49m\u001b[43m[\u001b[49m\u001b[38;5;241;43m0\u001b[39;49m\u001b[43m]\u001b[49m\n\u001b[0;32m    536\u001b[0m     \u001b[38;5;28;01mif\u001b[39;00m _main_name \u001b[38;5;241m==\u001b[39m \u001b[38;5;124m\"\u001b[39m\u001b[38;5;124m\"\u001b[39m:\n\u001b[0;32m    537\u001b[0m         _main_name \u001b[38;5;241m=\u001b[39m \u001b[38;5;124m\"\u001b[39m\u001b[38;5;124mcase-default\u001b[39m\u001b[38;5;124m\"\u001b[39m \n",
      "\u001b[1;31mIndexError\u001b[0m: list index out of range"
     ]
    }
   ],
   "source": [
    "# Exporting to results\n",
    "my_Container.export_data_to_directory(\"results\", export_nifti = True, export_npy = True)"
   ]
  },
  {
   "cell_type": "markdown",
   "id": "9eeec716-d179-43ab-bee7-85febc9b23b7",
   "metadata": {},
   "source": [
    "### Load data from exported dir"
   ]
  },
  {
   "cell_type": "code",
   "execution_count": null,
   "id": "ff19dee7-29bc-492d-984c-65145fe33b96",
   "metadata": {},
   "outputs": [],
   "source": [
    "my_Container.load_data_from_directory(load_dir_path = \"results\")\n",
    "print(f\"Number of series in container: {len(my_Container)}\")"
   ]
  },
  {
   "cell_type": "markdown",
   "id": "6c36de53-3eb9-4320-8257-eacf153f6e7c",
   "metadata": {},
   "source": [
    "### Verify loaded data"
   ]
  },
  {
   "cell_type": "code",
   "execution_count": null,
   "id": "5bcb2ba2-49e8-412a-89e4-327b84705973",
   "metadata": {},
   "outputs": [],
   "source": [
    "# Find same pair\n",
    "_init_series_ID = my_Container.data[0][\"series_ID\"]\n",
    "\n",
    "for _i, _item in enumerate(my_Container):\n",
    "    if _i == 0:\n",
    "        continue\n",
    "\n",
    "    if _item[\"series_ID\"] == _init_series_ID:\n",
    "        reconstruct_image(_item, display = True)\n",
    "        break"
   ]
  },
  {
   "cell_type": "code",
   "execution_count": null,
   "id": "c8c181b6-bce4-4d54-bb5a-4f08fa76dd35",
   "metadata": {},
   "outputs": [],
   "source": [
    "import os\n",
    "def obtain_series_dirs(path_dir: str = None)->list:\n",
    "    \"\"\"\n",
    "    Method which seeks for the directories inside the main dir. It lists them\n",
    "    and returns them. If there is no subdirectories then it is assumed that given\n",
    "    directory is the one which contain series.\n",
    "\n",
    "    Args:\n",
    "        * path_dir, str, path to input dir in which we seek for series\n",
    "    \n",
    "    Return: list, list containing either given path (assuming that it contain series)\n",
    "        or list of subdirectories in given dir assuming they represent series.\n",
    "    \"\"\"\n",
    "    # Storage\n",
    "    _directories_list = []\n",
    "\n",
    "    # Find all directories inside the given directory which contain dcm file\n",
    "    # inside\n",
    "    for _root, _dirs, _files in os.walk(path_dir):\n",
    "        if any(_file.endswith('.dcm') for _file in _files):\n",
    "            _directories_list.append(_root)\n",
    "    print(_directories_list)\n",
    "    # Test\n",
    "    if not _directories_list:\n",
    "        print(f\"Found 1 potential series dir in {path_dir}\")\n",
    "        return [path_dir]\n",
    "    else:\n",
    "        print(f\"Found {len(_directories_list)} potential series dirs in {path_dir}\")\n",
    "        return _directories_list\n",
    "_dir = r\"C:\\Users\\CH258598\\Desktop\\Current Research\\PlayingData\\case-122285 - Copy\"\n",
    "_q = obtain_series_dirs(_dir)"
   ]
  }
 ],
 "metadata": {
  "kernelspec": {
   "display_name": "Python 3 (ipykernel)",
   "language": "python",
   "name": "python3"
  },
  "language_info": {
   "codemirror_mode": {
    "name": "ipython",
    "version": 3
   },
   "file_extension": ".py",
   "mimetype": "text/x-python",
   "name": "python",
   "nbconvert_exporter": "python",
   "pygments_lexer": "ipython3",
   "version": "3.10.11"
  }
 },
 "nbformat": 4,
 "nbformat_minor": 5
}
